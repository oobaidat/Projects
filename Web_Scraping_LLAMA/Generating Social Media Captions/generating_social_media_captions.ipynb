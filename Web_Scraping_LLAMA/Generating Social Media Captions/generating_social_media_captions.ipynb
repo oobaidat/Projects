{
  "cells": [
    {
      "cell_type": "code",
      "execution_count": 14,
      "metadata": {
        "colab": {
          "base_uri": "https://localhost:8080/"
        },
        "id": "CXHoWQqQeKAR",
        "outputId": "b9c60062-646a-42fd-c38d-eb8dd82894e1"
      },
      "outputs": [
        {
          "name": "stdout",
          "output_type": "stream",
          "text": [
            "Requirement already satisfied: lightrag[ollama] in /usr/local/lib/python3.10/dist-packages (0.1.0b6)\n",
            "Requirement already satisfied: backoff<3.0.0,>=2.2.1 in /usr/local/lib/python3.10/dist-packages (from lightrag[ollama]) (2.2.1)\n",
            "Requirement already satisfied: jinja2<4.0.0,>=3.1.3 in /usr/local/lib/python3.10/dist-packages (from lightrag[ollama]) (3.1.4)\n",
            "Requirement already satisfied: jsonlines<5.0.0,>=4.0.0 in /usr/local/lib/python3.10/dist-packages (from lightrag[ollama]) (4.0.0)\n",
            "Requirement already satisfied: nest-asyncio<2.0.0,>=1.6.0 in /usr/local/lib/python3.10/dist-packages (from lightrag[ollama]) (1.6.0)\n",
            "Requirement already satisfied: numpy<2.0.0,>=1.26.4 in /usr/local/lib/python3.10/dist-packages (from lightrag[ollama]) (1.26.4)\n",
            "Requirement already satisfied: python-dotenv<2.0.0,>=1.0.1 in /usr/local/lib/python3.10/dist-packages (from lightrag[ollama]) (1.0.1)\n",
            "Requirement already satisfied: pyyaml<7.0.0,>=6.0.1 in /usr/local/lib/python3.10/dist-packages (from lightrag[ollama]) (6.0.2)\n",
            "Requirement already satisfied: tiktoken<0.8.0,>=0.7.0 in /usr/local/lib/python3.10/dist-packages (from lightrag[ollama]) (0.7.0)\n",
            "Requirement already satisfied: tqdm<5.0.0,>=4.66.4 in /usr/local/lib/python3.10/dist-packages (from lightrag[ollama]) (4.66.5)\n",
            "Requirement already satisfied: ollama<0.3.0,>=0.2.1 in /usr/local/lib/python3.10/dist-packages (from lightrag[ollama]) (0.2.1)\n",
            "Requirement already satisfied: MarkupSafe>=2.0 in /usr/local/lib/python3.10/dist-packages (from jinja2<4.0.0,>=3.1.3->lightrag[ollama]) (2.1.5)\n",
            "Requirement already satisfied: attrs>=19.2.0 in /usr/local/lib/python3.10/dist-packages (from jsonlines<5.0.0,>=4.0.0->lightrag[ollama]) (24.2.0)\n",
            "Requirement already satisfied: httpx<0.28.0,>=0.27.0 in /usr/local/lib/python3.10/dist-packages (from ollama<0.3.0,>=0.2.1->lightrag[ollama]) (0.27.2)\n",
            "Requirement already satisfied: regex>=2022.1.18 in /usr/local/lib/python3.10/dist-packages (from tiktoken<0.8.0,>=0.7.0->lightrag[ollama]) (2024.9.11)\n",
            "Requirement already satisfied: requests>=2.26.0 in /usr/local/lib/python3.10/dist-packages (from tiktoken<0.8.0,>=0.7.0->lightrag[ollama]) (2.32.3)\n",
            "Requirement already satisfied: anyio in /usr/local/lib/python3.10/dist-packages (from httpx<0.28.0,>=0.27.0->ollama<0.3.0,>=0.2.1->lightrag[ollama]) (3.7.1)\n",
            "Requirement already satisfied: certifi in /usr/local/lib/python3.10/dist-packages (from httpx<0.28.0,>=0.27.0->ollama<0.3.0,>=0.2.1->lightrag[ollama]) (2024.8.30)\n",
            "Requirement already satisfied: httpcore==1.* in /usr/local/lib/python3.10/dist-packages (from httpx<0.28.0,>=0.27.0->ollama<0.3.0,>=0.2.1->lightrag[ollama]) (1.0.6)\n",
            "Requirement already satisfied: idna in /usr/local/lib/python3.10/dist-packages (from httpx<0.28.0,>=0.27.0->ollama<0.3.0,>=0.2.1->lightrag[ollama]) (3.10)\n",
            "Requirement already satisfied: sniffio in /usr/local/lib/python3.10/dist-packages (from httpx<0.28.0,>=0.27.0->ollama<0.3.0,>=0.2.1->lightrag[ollama]) (1.3.1)\n",
            "Requirement already satisfied: h11<0.15,>=0.13 in /usr/local/lib/python3.10/dist-packages (from httpcore==1.*->httpx<0.28.0,>=0.27.0->ollama<0.3.0,>=0.2.1->lightrag[ollama]) (0.14.0)\n",
            "Requirement already satisfied: charset-normalizer<4,>=2 in /usr/local/lib/python3.10/dist-packages (from requests>=2.26.0->tiktoken<0.8.0,>=0.7.0->lightrag[ollama]) (3.3.2)\n",
            "Requirement already satisfied: urllib3<3,>=1.21.1 in /usr/local/lib/python3.10/dist-packages (from requests>=2.26.0->tiktoken<0.8.0,>=0.7.0->lightrag[ollama]) (2.2.3)\n",
            "Requirement already satisfied: exceptiongroup in /usr/local/lib/python3.10/dist-packages (from anyio->httpx<0.28.0,>=0.27.0->ollama<0.3.0,>=0.2.1->lightrag[ollama]) (1.2.2)\n"
          ]
        }
      ],
      "source": [
        "!sudo apt-get install -y pciutils\n",
        "!curl -fsSL https://ollama.com/install.sh | sh # download ollama api\n",
        "from IPython.display import clear_output\n",
        "\n",
        "# Create a Python script to start the Ollama API server in a separate thread\n",
        "\n",
        "import os\n",
        "import threading\n",
        "import subprocess\n",
        "import requests\n",
        "import json\n",
        "\n",
        "def ollama():\n",
        "    os.environ['OLLAMA_HOST'] = '0.0.0.0:11434'\n",
        "    os.environ['OLLAMA_ORIGINS'] = '*'\n",
        "    subprocess.Popen([\"ollama\", \"serve\"])\n",
        "\n",
        "ollama_thread = threading.Thread(target=ollama)\n",
        "ollama_thread.start()\n",
        "\n",
        "from IPython.display import clear_output\n",
        "!ollama pull llama3.1:8b\n",
        "clear_output()\n",
        "\n",
        "!pip install -U lightrag[ollama]"
      ]
    },
    {
      "cell_type": "code",
      "execution_count": 15,
      "metadata": {
        "colab": {
          "base_uri": "https://localhost:8080/",
          "height": 46
        },
        "id": "9kQ92_hNZ1_s",
        "outputId": "756eacbe-fdd4-4b13-d54f-3809693aede1"
      },
      "outputs": [
        {
          "data": {
            "text/markdown": [
              "**Generated Caption for Instagram:** \"Golden hour vibes only Where the sky meets the sea and all my worries fade away #BeachLife #SunsetChasers #CoastalBliss\""
            ],
            "text/plain": [
              "<IPython.core.display.Markdown object>"
            ]
          },
          "metadata": {},
          "output_type": "display_data"
        }
      ],
      "source": [
        "from lightrag.core.generator import Generator\n",
        "from lightrag.core.component import Component\n",
        "from lightrag.core.model_client import ModelClient\n",
        "from lightrag.components.model_client import OllamaClient\n",
        "from IPython.display import Markdown, display\n",
        "\n",
        "# Modify the template to include the platform as a parameter\n",
        "qa_template = r\"\"\"<SYS>\n",
        "You are a creative assistant that generates engaging and catchy social media captions based on the platform specified and the given input.\n",
        "Tailor the caption for {{platform}} and use its specific tone and style.\n",
        "</SYS>\n",
        "User: {{input_str}}\n",
        "You:\"\"\"\n",
        "\n",
        "# Define the SimpleQA class with platform input\n",
        "class SimpleQA(Component):\n",
        "    def __init__(self, model_client: ModelClient, model_kwargs: dict):\n",
        "        super().__init__()\n",
        "        self.generator = Generator(\n",
        "            model_client=model_client,\n",
        "            model_kwargs=model_kwargs,\n",
        "            template=qa_template,\n",
        "        )\n",
        "\n",
        "    def call(self, input_str: str, platform: str) -> str:\n",
        "        # Pass both the platform and input string to the model\n",
        "        return self.generator.call({\n",
        "            \"input_str\": input_str,\n",
        "            \"platform\": platform\n",
        "        })\n",
        "\n",
        "    async def acall(self, input_str: str, platform: str) -> str:\n",
        "        return await self.generator.acall({\n",
        "            \"input_str\": input_str,\n",
        "            \"platform\": platform\n",
        "        })\n",
        "\n",
        "# Initialize model client\n",
        "model = {\n",
        "    \"model_client\": OllamaClient(),\n",
        "    \"model_kwargs\": {\"model\": \"llama3.1:8b\"}\n",
        "}\n",
        "\n",
        "# Create instance of SimpleQA\n",
        "qa = SimpleQA(**model)\n",
        "\n",
        "# Platform and content details\n",
        "platform = \"Instagram\"\n",
        "content = \"A picture of a beach at sunset\"\n",
        "\n",
        "# Generate and display a platform-specific caption\n",
        "output = qa(content, platform)\n",
        "display(Markdown(f\"**Generated Caption for {platform}:** {output.data}\"))\n"
      ]
    },
    {
      "cell_type": "code",
      "execution_count": 17,
      "metadata": {
        "colab": {
          "base_uri": "https://localhost:8080/",
          "height": 81
        },
        "id": "kaTXSfD4hdEz",
        "outputId": "e4275efd-b825-4402-c482-e9d5e44f1145"
      },
      "outputs": [
        {
          "data": {
            "text/markdown": [
              "**Generated Caption for Instagram (Target Audience: 15-30 year olds who enjoy trendy, youthful content):** \"Wake up to a buzz! 🚀 Introducing our brand new coffee blend, crafted specifically for young adventurers like YOU! ☕️ What's your go-to order? Share with us in the comments below! #CoffeeLover #NewBlendAlert #TrendyCoffee\""
            ],
            "text/plain": [
              "<IPython.core.display.Markdown object>"
            ]
          },
          "metadata": {},
          "output_type": "display_data"
        }
      ],
      "source": [
        "qa_template = r\"\"\"<SYS>\n",
        "You are a highly skilled social media content creator with expertise in tailoring content to various platforms and audiences. Your task is to generate an engaging and appealing caption for a social media post based on the provided input. Please follow these guidelines:\n",
        "\n",
        "- **Engagement**: Make the caption appealing to the target audience and encourage interaction (e.g., asking questions, using calls to action, encouraging likes, shares, comments, or tags).\n",
        "- **Tone**: Adapt the tone to match the product, audience, and platform (e.g., playful for Instagram, professional for LinkedIn).\n",
        "- **Brevity**: Keep the caption concise, sticking to platform-specific limits (e.g., 15-20 words for Instagram, under 280 characters for Twitter).\n",
        "- **Hashtags**: Use 2-3 relevant and trending hashtags, specific to the product or campaign. Adjust the number of hashtags based on platform (e.g., more hashtags on Instagram, fewer on Facebook).\n",
        "- **Target Audience**: Ensure the caption is personalized to appeal specifically to the age, gender, and preferences of the audience described (e.g., energetic for teens, professional for business professionals).\n",
        "- **Platform-Specific Best Practices**: Adjust the content style and format to suit the platform’s unique characteristics (e.g., short and punchy for Twitter, visually descriptive for Instagram, professional and informative for LinkedIn).\n",
        "- **Timeliness**: If relevant, include references to current trends or events, making the caption timely and relevant (e.g., seasonal promotions, holidays, trending topics).\n",
        "- **Emojis**: Where appropriate, use emojis to enhance the post’s appeal and convey emotions or ideas quickly. Adapt emoji use to platform norms (e.g., more liberal use on Instagram, minimal or professional use on LinkedIn).\n",
        "\n",
        "User's Input Description:\n",
        "{{input_str}}\n",
        "\n",
        "Platform:\n",
        "{{platform}}\n",
        "\n",
        "Target Audience:\n",
        "{{audience}}\n",
        "\n",
        "Generated Caption:\n",
        "</SYS>\n",
        "\"\"\"\n",
        "\n",
        "class SimpleQA(Component):\n",
        "    def __init__(self, model_client: ModelClient, model_kwargs: dict):\n",
        "        super().__init__()\n",
        "        self.generator = Generator(\n",
        "            model_client=model_client,\n",
        "            model_kwargs=model_kwargs,\n",
        "            template=qa_template,\n",
        "        )\n",
        "\n",
        "    def call(self, input: dict) -> str:\n",
        "        return self.generator.call({\n",
        "            \"input_str\": input['description'],\n",
        "            \"platform\": input['platform'],\n",
        "            \"audience\": input['audience'],\n",
        "        })\n",
        "\n",
        "    async def acall(self, input: dict) -> str:\n",
        "        return await self.generator.acall({\n",
        "            \"input_str\": input['description'],\n",
        "            \"platform\": input['platform'],\n",
        "            \"audience\": input['audience'],\n",
        "        })\n",
        "\n",
        "# Initialize the model and generator\n",
        "from lightrag.components.model_client import OllamaClient\n",
        "from IPython.display import Markdown, display\n",
        "\n",
        "# Example input\n",
        "input_data = {\n",
        "    \"description\": \"Promote a newly released coffee blend designed for 15-30 year olds with a fun, youthful vibe.\",\n",
        "    \"platform\": \"Instagram\",\n",
        "    \"audience\": \"15-30 year olds who enjoy trendy, youthful content\",\n",
        "}\n",
        "\n",
        "# Create the model instance\n",
        "model = {\n",
        "    \"model_client\": OllamaClient(),\n",
        "    \"model_kwargs\": {\"model\": \"llama3.1:8b\"}\n",
        "}\n",
        "qa = SimpleQA(**model)\n",
        "\n",
        "# Generate the output\n",
        "output = qa(input_data)\n",
        "display(Markdown(f\"**Generated Caption for {input_data['platform']} (Target Audience: {input_data['audience']}):** {output.data}\"))\n"
      ]
    },
    {
      "cell_type": "code",
      "execution_count": 18,
      "metadata": {
        "colab": {
          "base_uri": "https://localhost:8080/",
          "height": 1000
        },
        "id": "A2tnC9krkNgJ",
        "outputId": "c4a590df-fdf0-4965-e9fa-fda6073d5668"
      },
      "outputs": [
        {
          "data": {
            "text/markdown": [
              "### Prompt 1:"
            ],
            "text/plain": [
              "<IPython.core.display.Markdown object>"
            ]
          },
          "metadata": {},
          "output_type": "display_data"
        },
        {
          "data": {
            "text/markdown": [
              "**Prompt:** An inspiring caption about personal growth and the importance of self-reflection."
            ],
            "text/plain": [
              "<IPython.core.display.Markdown object>"
            ]
          },
          "metadata": {},
          "output_type": "display_data"
        },
        {
          "data": {
            "text/markdown": [
              "**Platform:** Instagram"
            ],
            "text/plain": [
              "<IPython.core.display.Markdown object>"
            ]
          },
          "metadata": {},
          "output_type": "display_data"
        },
        {
          "data": {
            "text/markdown": [
              "**Audience:** young adults interested in personal development"
            ],
            "text/plain": [
              "<IPython.core.display.Markdown object>"
            ]
          },
          "metadata": {},
          "output_type": "display_data"
        },
        {
          "data": {
            "text/markdown": [
              "<br>"
            ],
            "text/plain": [
              "<IPython.core.display.Markdown object>"
            ]
          },
          "metadata": {},
          "output_type": "display_data"
        },
        {
          "data": {
            "text/markdown": [
              "**Generated Caption:** Here's a captivating caption that aligns with the user's input, platform, target audience, and best practices:\n",
              "\n",
              "\"🌟 Reflect. Renew. Rise. Take a moment to pause, breathe, and listen to your inner voice. What self-care practice will you cultivate this week? 💆‍♀️ Share with us in the comments below! #PersonalGrowth #SelfLoveJourney #MindfulMoments\"\n",
              "\n",
              "This caption:\n",
              "\n",
              "- **Engages** young adults interested in personal development by asking a question that encourages interaction and sharing.\n",
              "- **Tones** is inspiring, motivational, and youthful to match the Instagram platform and target audience.\n",
              "- **Is concise**, within the recommended 15-20 word limit for Instagram captions.\n",
              "- **Uses relevant hashtags** (#PersonalGrowth, #SelfLoveJourney) to reach a broader audience interested in personal development and self-care."
            ],
            "text/plain": [
              "<IPython.core.display.Markdown object>"
            ]
          },
          "metadata": {},
          "output_type": "display_data"
        },
        {
          "data": {
            "text/markdown": [
              "---"
            ],
            "text/plain": [
              "<IPython.core.display.Markdown object>"
            ]
          },
          "metadata": {},
          "output_type": "display_data"
        },
        {
          "data": {
            "text/markdown": [
              "### Prompt 2:"
            ],
            "text/plain": [
              "<IPython.core.display.Markdown object>"
            ]
          },
          "metadata": {},
          "output_type": "display_data"
        },
        {
          "data": {
            "text/markdown": [
              "**Prompt:** A heartwarming post celebrating friendships and the moments that make them special."
            ],
            "text/plain": [
              "<IPython.core.display.Markdown object>"
            ]
          },
          "metadata": {},
          "output_type": "display_data"
        },
        {
          "data": {
            "text/markdown": [
              "**Platform:** Facebook"
            ],
            "text/plain": [
              "<IPython.core.display.Markdown object>"
            ]
          },
          "metadata": {},
          "output_type": "display_data"
        },
        {
          "data": {
            "text/markdown": [
              "**Audience:** friends and families looking to connect"
            ],
            "text/plain": [
              "<IPython.core.display.Markdown object>"
            ]
          },
          "metadata": {},
          "output_type": "display_data"
        },
        {
          "data": {
            "text/markdown": [
              "<br>"
            ],
            "text/plain": [
              "<IPython.core.display.Markdown object>"
            ]
          },
          "metadata": {},
          "output_type": "display_data"
        },
        {
          "data": {
            "text/markdown": [
              "**Generated Caption:** Here's a caption for Facebook:\n",
              "\n",
              "\"Friendship is the best gift! ❤️ What's your favorite memory with a friend? Share it in the comments below and let's celebrate the moments that make life special!\n",
              "\n",
              "#FriendsForLife #MemoriesToTreasure #ConnectionMatters\"\n",
              "\n",
              "This caption aims to engage friends and families by asking them to share their own memories, fostering connection and community. The tone is heartwarming and inclusive, making it perfect for Facebook. I've used a mix of emojis (❤️) to add a touch of warmth and friendliness."
            ],
            "text/plain": [
              "<IPython.core.display.Markdown object>"
            ]
          },
          "metadata": {},
          "output_type": "display_data"
        },
        {
          "data": {
            "text/markdown": [
              "---"
            ],
            "text/plain": [
              "<IPython.core.display.Markdown object>"
            ]
          },
          "metadata": {},
          "output_type": "display_data"
        },
        {
          "data": {
            "text/markdown": [
              "### Prompt 3:"
            ],
            "text/plain": [
              "<IPython.core.display.Markdown object>"
            ]
          },
          "metadata": {},
          "output_type": "display_data"
        },
        {
          "data": {
            "text/markdown": [
              "**Prompt:** Discuss the latest trends in sustainable fashion and why they matter for our environment."
            ],
            "text/plain": [
              "<IPython.core.display.Markdown object>"
            ]
          },
          "metadata": {},
          "output_type": "display_data"
        },
        {
          "data": {
            "text/markdown": [
              "**Platform:** Twitter"
            ],
            "text/plain": [
              "<IPython.core.display.Markdown object>"
            ]
          },
          "metadata": {},
          "output_type": "display_data"
        },
        {
          "data": {
            "text/markdown": [
              "**Audience:** fashion enthusiasts and eco-conscious consumers"
            ],
            "text/plain": [
              "<IPython.core.display.Markdown object>"
            ]
          },
          "metadata": {},
          "output_type": "display_data"
        },
        {
          "data": {
            "text/markdown": [
              "<br>"
            ],
            "text/plain": [
              "<IPython.core.display.Markdown object>"
            ]
          },
          "metadata": {},
          "output_type": "display_data"
        },
        {
          "data": {
            "text/markdown": [
              "**Generated Caption:** \"Get ready to go green! 🌿💚 What are your favorite sustainable fashion trends? From recycled materials to zero-waste design, share with us how you're making a difference in the industry! #SustainableFashionMatters #EcoConsciousLuxury\"\n",
              "\n",
              "This caption aims to engage Twitter users by asking a question and encouraging them to share their own experiences. The tone is playful yet informative, fitting for a fashion platform like Twitter. The hashtags are relevant to the topic and current trends in sustainable fashion, ensuring the post reaches the target audience of fashion enthusiasts and eco-conscious consumers."
            ],
            "text/plain": [
              "<IPython.core.display.Markdown object>"
            ]
          },
          "metadata": {},
          "output_type": "display_data"
        },
        {
          "data": {
            "text/markdown": [
              "---"
            ],
            "text/plain": [
              "<IPython.core.display.Markdown object>"
            ]
          },
          "metadata": {},
          "output_type": "display_data"
        },
        {
          "data": {
            "text/markdown": [
              "### Prompt 4:"
            ],
            "text/plain": [
              "<IPython.core.display.Markdown object>"
            ]
          },
          "metadata": {},
          "output_type": "display_data"
        },
        {
          "data": {
            "text/markdown": [
              "**Prompt:** A motivational message encouraging people to pursue their passions and dreams."
            ],
            "text/plain": [
              "<IPython.core.display.Markdown object>"
            ]
          },
          "metadata": {},
          "output_type": "display_data"
        },
        {
          "data": {
            "text/markdown": [
              "**Platform:** LinkedIn"
            ],
            "text/plain": [
              "<IPython.core.display.Markdown object>"
            ]
          },
          "metadata": {},
          "output_type": "display_data"
        },
        {
          "data": {
            "text/markdown": [
              "**Audience:** individuals seeking motivation and inspiration"
            ],
            "text/plain": [
              "<IPython.core.display.Markdown object>"
            ]
          },
          "metadata": {},
          "output_type": "display_data"
        },
        {
          "data": {
            "text/markdown": [
              "<br>"
            ],
            "text/plain": [
              "<IPython.core.display.Markdown object>"
            ]
          },
          "metadata": {},
          "output_type": "display_data"
        },
        {
          "data": {
            "text/markdown": [
              "**Generated Caption:** Here's a generated caption for the social media post based on the provided input:\n",
              "\n",
              "**Caption:** Unlock Your Potential! What's the one dream or passion you've been putting off? Let's break down barriers together and make it happen. Share with us what drives you in the comments below! #MotivationMonday #DreamBig #PersonalGrowth\n",
              "\n",
              "**Tone:** Inspirational and professional, suitable for LinkedIn.\n",
              "\n",
              "**Brevity:** Under 280 characters, perfect for LinkedIn's character limit.\n",
              "\n",
              "**Hashtags:** 3 relevant hashtags that align with the motivational theme, including a timely #MotivationMonday to encourage engagement.\n",
              "\n",
              "**Target Audience:** Individuals seeking motivation and inspiration, tailored to appeal specifically to professionals on LinkedIn.\n",
              "\n",
              "**Platform-Specific Best Practices:** Adapted the caption style and format to suit LinkedIn's professional tone and character limit.\n",
              "\n",
              "**Timeliness:** Incorporated a seasonal hashtag (#MotivationMonday) to make the post timely and relevant for the target audience.\n",
              "\n",
              "**Emojis:** Minimal emoji use, adjusted according to platform norms (professional tone on LinkedIn), to convey a sense of motivation without being too casual."
            ],
            "text/plain": [
              "<IPython.core.display.Markdown object>"
            ]
          },
          "metadata": {},
          "output_type": "display_data"
        },
        {
          "data": {
            "text/markdown": [
              "---"
            ],
            "text/plain": [
              "<IPython.core.display.Markdown object>"
            ]
          },
          "metadata": {},
          "output_type": "display_data"
        },
        {
          "data": {
            "text/markdown": [
              "### Prompt 5:"
            ],
            "text/plain": [
              "<IPython.core.display.Markdown object>"
            ]
          },
          "metadata": {},
          "output_type": "display_data"
        },
        {
          "data": {
            "text/markdown": [
              "**Prompt:** Share tips for maintaining mental health during stressful times and the importance of self-care."
            ],
            "text/plain": [
              "<IPython.core.display.Markdown object>"
            ]
          },
          "metadata": {},
          "output_type": "display_data"
        },
        {
          "data": {
            "text/markdown": [
              "**Platform:** Instagram"
            ],
            "text/plain": [
              "<IPython.core.display.Markdown object>"
            ]
          },
          "metadata": {},
          "output_type": "display_data"
        },
        {
          "data": {
            "text/markdown": [
              "**Audience:** people managing stress and prioritizing mental health"
            ],
            "text/plain": [
              "<IPython.core.display.Markdown object>"
            ]
          },
          "metadata": {},
          "output_type": "display_data"
        },
        {
          "data": {
            "text/markdown": [
              "<br>"
            ],
            "text/plain": [
              "<IPython.core.display.Markdown object>"
            ]
          },
          "metadata": {},
          "output_type": "display_data"
        },
        {
          "data": {
            "text/markdown": [
              "**Generated Caption:** \"Breathe, relax, and remember: you're not alone! 🌱💆‍♀️ Share with us your favorite self-care tips to manage stress during tough times! ✨ We love hearing from our community about what works for them. Tag a friend who needs some calming vibes in their life! 💕 #MentalHealthMatters #SelfCareSunday\""
            ],
            "text/plain": [
              "<IPython.core.display.Markdown object>"
            ]
          },
          "metadata": {},
          "output_type": "display_data"
        },
        {
          "data": {
            "text/markdown": [
              "---"
            ],
            "text/plain": [
              "<IPython.core.display.Markdown object>"
            ]
          },
          "metadata": {},
          "output_type": "display_data"
        },
        {
          "data": {
            "text/markdown": [
              "### Prompt 6:"
            ],
            "text/plain": [
              "<IPython.core.display.Markdown object>"
            ]
          },
          "metadata": {},
          "output_type": "display_data"
        },
        {
          "data": {
            "text/markdown": [
              "**Prompt:** Highlight a local charity's efforts and encourage followers to support their cause."
            ],
            "text/plain": [
              "<IPython.core.display.Markdown object>"
            ]
          },
          "metadata": {},
          "output_type": "display_data"
        },
        {
          "data": {
            "text/markdown": [
              "**Platform:** Facebook"
            ],
            "text/plain": [
              "<IPython.core.display.Markdown object>"
            ]
          },
          "metadata": {},
          "output_type": "display_data"
        },
        {
          "data": {
            "text/markdown": [
              "**Audience:** community members wanting to give back"
            ],
            "text/plain": [
              "<IPython.core.display.Markdown object>"
            ]
          },
          "metadata": {},
          "output_type": "display_data"
        },
        {
          "data": {
            "text/markdown": [
              "<br>"
            ],
            "text/plain": [
              "<IPython.core.display.Markdown object>"
            ]
          },
          "metadata": {},
          "output_type": "display_data"
        },
        {
          "data": {
            "text/markdown": [
              "**Generated Caption:** Here's the generated caption for Facebook:\n",
              "\n",
              "**Supporting Our Local Heroes 💖**\n",
              "\n",
              "Did you know that [Local Charity Name] has been serving our community with dedication and heart? Their tireless efforts deserve our support! 🙌 From feeding the hungry to empowering our youth, their work is a shining example of kindness in action.\n",
              "\n",
              "Let's come together to make a difference! Share this post with a friend who cares about giving back, and let's show [Local Charity Name] how much we appreciate their selfless efforts. Together, we can make a real impact!\n",
              "\n",
              "**Learn more about their amazing work and consider making a donation today! 💕**\n",
              "\n",
              "#GivingBack #SupportLocal #CharityWork"
            ],
            "text/plain": [
              "<IPython.core.display.Markdown object>"
            ]
          },
          "metadata": {},
          "output_type": "display_data"
        },
        {
          "data": {
            "text/markdown": [
              "---"
            ],
            "text/plain": [
              "<IPython.core.display.Markdown object>"
            ]
          },
          "metadata": {},
          "output_type": "display_data"
        },
        {
          "data": {
            "text/markdown": [
              "### Prompt 7:"
            ],
            "text/plain": [
              "<IPython.core.display.Markdown object>"
            ]
          },
          "metadata": {},
          "output_type": "display_data"
        },
        {
          "data": {
            "text/markdown": [
              "**Prompt:** A fun fact about the benefits of reading books and how it can enrich our lives."
            ],
            "text/plain": [
              "<IPython.core.display.Markdown object>"
            ]
          },
          "metadata": {},
          "output_type": "display_data"
        },
        {
          "data": {
            "text/markdown": [
              "**Platform:** Twitter"
            ],
            "text/plain": [
              "<IPython.core.display.Markdown object>"
            ]
          },
          "metadata": {},
          "output_type": "display_data"
        },
        {
          "data": {
            "text/markdown": [
              "**Audience:** book lovers and lifelong learners"
            ],
            "text/plain": [
              "<IPython.core.display.Markdown object>"
            ]
          },
          "metadata": {},
          "output_type": "display_data"
        },
        {
          "data": {
            "text/markdown": [
              "<br>"
            ],
            "text/plain": [
              "<IPython.core.display.Markdown object>"
            ]
          },
          "metadata": {},
          "output_type": "display_data"
        },
        {
          "data": {
            "text/markdown": [
              "**Generated Caption:** Here's a possible caption that fits your requirements:\n",
              "\n",
              "\"Did you know that reading just 1 book a month can increase your empathy, improve cognitive function & even boost your career?! 📚💡 What's the last great book you read? Share with us! #BookLove #LifelongLearning\"\n",
              "\n",
              "This caption is concise and informative, making it suitable for Twitter. It also includes:\n",
              "\n",
              "* A call to action (\"Share with us!\") to encourage engagement\n",
              "* Hashtags that are relevant to the topic and can help reach a wider audience (#BookLove, #LifelongLearning)\n",
              "* An emoji (📚) that's commonly used on social media platforms to represent books or reading\n",
              "* A question at the end to encourage interaction and spark conversation among book lovers"
            ],
            "text/plain": [
              "<IPython.core.display.Markdown object>"
            ]
          },
          "metadata": {},
          "output_type": "display_data"
        },
        {
          "data": {
            "text/markdown": [
              "---"
            ],
            "text/plain": [
              "<IPython.core.display.Markdown object>"
            ]
          },
          "metadata": {},
          "output_type": "display_data"
        },
        {
          "data": {
            "text/markdown": [
              "### Prompt 8:"
            ],
            "text/plain": [
              "<IPython.core.display.Markdown object>"
            ]
          },
          "metadata": {},
          "output_type": "display_data"
        },
        {
          "data": {
            "text/markdown": [
              "**Prompt:** Promote the joy of travel and the benefits of exploring new cultures and experiences."
            ],
            "text/plain": [
              "<IPython.core.display.Markdown object>"
            ]
          },
          "metadata": {},
          "output_type": "display_data"
        },
        {
          "data": {
            "text/markdown": [
              "**Platform:** Instagram"
            ],
            "text/plain": [
              "<IPython.core.display.Markdown object>"
            ]
          },
          "metadata": {},
          "output_type": "display_data"
        },
        {
          "data": {
            "text/markdown": [
              "**Audience:** travel enthusiasts and cultural explorers"
            ],
            "text/plain": [
              "<IPython.core.display.Markdown object>"
            ]
          },
          "metadata": {},
          "output_type": "display_data"
        },
        {
          "data": {
            "text/markdown": [
              "<br>"
            ],
            "text/plain": [
              "<IPython.core.display.Markdown object>"
            ]
          },
          "metadata": {},
          "output_type": "display_data"
        },
        {
          "data": {
            "text/markdown": [
              "**Generated Caption:** \"Where will your wanderlust take you? 🌏 Share with us your favorite travel story or a destination on your bucket list! ✈️ #TravelWithPurpose #CulturalExplorers #PassportToAdventure\"\n",
              "\n",
              "This caption aims to engage the audience by:\n",
              "\n",
              "- Encouraging sharing of personal experiences (travel story)\n",
              "- Asking a question that sparks curiosity and excitement\n",
              "- Using relevant hashtags, making it discoverable by travel enthusiasts and cultural explorers\n",
              "- Incorporating visually appealing emojis (🌏, ✈️) suitable for Instagram\n",
              "\n",
              "By promoting the joy of travel and exploration, this caption is designed to resonate with the target audience of travel enthusiasts and cultural explorers."
            ],
            "text/plain": [
              "<IPython.core.display.Markdown object>"
            ]
          },
          "metadata": {},
          "output_type": "display_data"
        },
        {
          "data": {
            "text/markdown": [
              "---"
            ],
            "text/plain": [
              "<IPython.core.display.Markdown object>"
            ]
          },
          "metadata": {},
          "output_type": "display_data"
        },
        {
          "data": {
            "text/markdown": [
              "### Prompt 9:"
            ],
            "text/plain": [
              "<IPython.core.display.Markdown object>"
            ]
          },
          "metadata": {},
          "output_type": "display_data"
        },
        {
          "data": {
            "text/markdown": [
              "**Prompt:** An engaging post about the significance of community service and how to get involved."
            ],
            "text/plain": [
              "<IPython.core.display.Markdown object>"
            ]
          },
          "metadata": {},
          "output_type": "display_data"
        },
        {
          "data": {
            "text/markdown": [
              "**Platform:** Facebook"
            ],
            "text/plain": [
              "<IPython.core.display.Markdown object>"
            ]
          },
          "metadata": {},
          "output_type": "display_data"
        },
        {
          "data": {
            "text/markdown": [
              "**Audience:** volunteers and community service advocates"
            ],
            "text/plain": [
              "<IPython.core.display.Markdown object>"
            ]
          },
          "metadata": {},
          "output_type": "display_data"
        },
        {
          "data": {
            "text/markdown": [
              "<br>"
            ],
            "text/plain": [
              "<IPython.core.display.Markdown object>"
            ]
          },
          "metadata": {},
          "output_type": "display_data"
        },
        {
          "data": {
            "text/markdown": [
              "**Generated Caption:** Here's a generated caption for the Facebook post:\n",
              "\n",
              "**\"Join the Movement! 💚💕**\n",
              "Community service isn't just about giving back - it's about building a better tomorrow. Want to get involved? Share with us your favorite volunteer experience or let us know how you'd like to make a difference!\n",
              "\n",
              "#VolunteerWork #CommunityService #MakeADifference\"\n",
              "\n",
              "**Why this caption works:**\n",
              "\n",
              "- **Engagement**: The caption encourages interaction by asking the audience to share their own experiences and ideas.\n",
              "- **Tone**: It's professional, yet encouraging and motivational, fitting for Facebook, where discussions are more in-depth than on Instagram.\n",
              "- **Brevity**: The caption is concise, within Facebook’s typical engagement-oriented limit.\n",
              "- **Hashtags**: Using #VolunteerWork and #CommunityService provides a clear direction to the post’s theme. #MakeADifference adds a call to action, encouraging viewers to get involved.\n",
              "- **Target Audience**: It's tailored for volunteers and community service advocates, speaking directly to their interests and passions.\n",
              "- **Platform-Specific Best Practices**: Facebook’s interactive nature is highlighted with the engagement-driven content style.\n",
              "- **Timeliness**: There’s no specific reference to a current trend or event, but the message about community service remains relevant throughout the year.\n",
              "- **Emojis**: The emojis used are friendly and encouraging, fitting for Facebook."
            ],
            "text/plain": [
              "<IPython.core.display.Markdown object>"
            ]
          },
          "metadata": {},
          "output_type": "display_data"
        },
        {
          "data": {
            "text/markdown": [
              "---"
            ],
            "text/plain": [
              "<IPython.core.display.Markdown object>"
            ]
          },
          "metadata": {},
          "output_type": "display_data"
        },
        {
          "data": {
            "text/markdown": [
              "### Prompt 10:"
            ],
            "text/plain": [
              "<IPython.core.display.Markdown object>"
            ]
          },
          "metadata": {},
          "output_type": "display_data"
        },
        {
          "data": {
            "text/markdown": [
              "**Prompt:** Share a delicious recipe for a healthy meal that’s easy to prepare at home."
            ],
            "text/plain": [
              "<IPython.core.display.Markdown object>"
            ]
          },
          "metadata": {},
          "output_type": "display_data"
        },
        {
          "data": {
            "text/markdown": [
              "**Platform:** Instagram"
            ],
            "text/plain": [
              "<IPython.core.display.Markdown object>"
            ]
          },
          "metadata": {},
          "output_type": "display_data"
        },
        {
          "data": {
            "text/markdown": [
              "**Audience:** health-conscious individuals looking for easy recipes"
            ],
            "text/plain": [
              "<IPython.core.display.Markdown object>"
            ]
          },
          "metadata": {},
          "output_type": "display_data"
        },
        {
          "data": {
            "text/markdown": [
              "<br>"
            ],
            "text/plain": [
              "<IPython.core.display.Markdown object>"
            ]
          },
          "metadata": {},
          "output_type": "display_data"
        },
        {
          "data": {
            "text/markdown": [
              "**Generated Caption:** \"🍎 Savor the Flavor of Health! 🌿️ Share with us your favorite quick & easy recipe for a nutritious meal! 😋 Try our delicious 'Spinach, Feta & Quinoa Bowl' 🥗: Simply sauté spinach and garlic, mix with cooked quinoa, crumbled feta, cherry tomatoes, and a drizzle of lemon juice. Ready in 15 minutes! ❤️ Share your healthy hacks and recipe ideas in the comments below! 💚 #HealthyRecipes #QuickMeals #EasyCooking\""
            ],
            "text/plain": [
              "<IPython.core.display.Markdown object>"
            ]
          },
          "metadata": {},
          "output_type": "display_data"
        },
        {
          "data": {
            "text/markdown": [
              "---"
            ],
            "text/plain": [
              "<IPython.core.display.Markdown object>"
            ]
          },
          "metadata": {},
          "output_type": "display_data"
        },
        {
          "data": {
            "text/markdown": [
              "### Prompt 11:"
            ],
            "text/plain": [
              "<IPython.core.display.Markdown object>"
            ]
          },
          "metadata": {},
          "output_type": "display_data"
        },
        {
          "data": {
            "text/markdown": [
              "**Prompt:** Discuss the impact of technology on our daily lives and how to find a healthy balance."
            ],
            "text/plain": [
              "<IPython.core.display.Markdown object>"
            ]
          },
          "metadata": {},
          "output_type": "display_data"
        },
        {
          "data": {
            "text/markdown": [
              "**Platform:** LinkedIn"
            ],
            "text/plain": [
              "<IPython.core.display.Markdown object>"
            ]
          },
          "metadata": {},
          "output_type": "display_data"
        },
        {
          "data": {
            "text/markdown": [
              "**Audience:** tech-savvy individuals seeking balance in life"
            ],
            "text/plain": [
              "<IPython.core.display.Markdown object>"
            ]
          },
          "metadata": {},
          "output_type": "display_data"
        },
        {
          "data": {
            "text/markdown": [
              "<br>"
            ],
            "text/plain": [
              "<IPython.core.display.Markdown object>"
            ]
          },
          "metadata": {},
          "output_type": "display_data"
        },
        {
          "data": {
            "text/markdown": [
              "**Generated Caption:** Here is the generated caption:\n",
              "\n",
              "**\"Harnessing the Power of Tech for a Healthier You 📊💻** As tech continues to revolutionize our daily lives, how do you maintain a healthy balance between work, personal life, and digital connectivity? Share your tips on achieving tech-driven harmony! 💡 #DigitalBalance #TechForGood #ProductivityHacks\"\n",
              "\n",
              "This caption:\n",
              "\n",
              "- **Engages**: Encourages interaction by asking the question \"Share your tips...\"\n",
              "- **Tone**: Is professional and informative, suitable for LinkedIn.\n",
              "- **Brevity**: Stays concise within the platform's limit (under 280 characters).\n",
              "- **Hashtags**: Uses relevant hashtags that are specific to the topic, without overwhelming the audience.\n",
              "- **Target Audience**: Is tailored to tech-savvy individuals seeking balance in life.\n",
              "- **Platform-Specific Best Practices**: Adapts to LinkedIn by being informative and professional.\n",
              "- **Timeliness**: Refers to a current trend (tech's impact on daily lives), making it relevant and timely.\n",
              "- **Emojis**: Uses minimal but relevant emojis that are suitable for the platform."
            ],
            "text/plain": [
              "<IPython.core.display.Markdown object>"
            ]
          },
          "metadata": {},
          "output_type": "display_data"
        },
        {
          "data": {
            "text/markdown": [
              "---"
            ],
            "text/plain": [
              "<IPython.core.display.Markdown object>"
            ]
          },
          "metadata": {},
          "output_type": "display_data"
        },
        {
          "data": {
            "text/markdown": [
              "### Prompt 12:"
            ],
            "text/plain": [
              "<IPython.core.display.Markdown object>"
            ]
          },
          "metadata": {},
          "output_type": "display_data"
        },
        {
          "data": {
            "text/markdown": [
              "**Prompt:** Celebrate diversity and inclusion, highlighting stories from different cultures and backgrounds."
            ],
            "text/plain": [
              "<IPython.core.display.Markdown object>"
            ]
          },
          "metadata": {},
          "output_type": "display_data"
        },
        {
          "data": {
            "text/markdown": [
              "**Platform:** Instagram"
            ],
            "text/plain": [
              "<IPython.core.display.Markdown object>"
            ]
          },
          "metadata": {},
          "output_type": "display_data"
        },
        {
          "data": {
            "text/markdown": [
              "**Audience:** diversity advocates and socially aware individuals"
            ],
            "text/plain": [
              "<IPython.core.display.Markdown object>"
            ]
          },
          "metadata": {},
          "output_type": "display_data"
        },
        {
          "data": {
            "text/markdown": [
              "<br>"
            ],
            "text/plain": [
              "<IPython.core.display.Markdown object>"
            ]
          },
          "metadata": {},
          "output_type": "display_data"
        },
        {
          "data": {
            "text/markdown": [
              "**Generated Caption:** Here is a potential caption for the social media post based on your input:\n",
              "\n",
              "\"Global Vibes 🌎💖\n",
              "We're celebrating the beauty of diversity by sharing stories from around the world! From traditional attire to vibrant food scenes, what's one cultural tradition that sparks joy in you? Share with us and let's spread love & acceptance! #DiversityMatters #InclusionRevolution\"\n",
              "\n",
              "This caption aims to engage the target audience by:\n",
              "\n",
              "* Encouraging interaction through a question about personal experiences\n",
              "* Using relevant hashtags like #DiversityMatters and #InclusionRevolution, which are popular among diversity advocates\n",
              "* Incorporating emojis (🌎💖) to add a touch of vibrancy and friendliness, while being mindful of platform norms on Instagram\n",
              "* Keeping the caption concise and easy to read within Instagram's character limit\n",
              "\n",
              "Feel free to adjust or modify it as needed! 😊"
            ],
            "text/plain": [
              "<IPython.core.display.Markdown object>"
            ]
          },
          "metadata": {},
          "output_type": "display_data"
        },
        {
          "data": {
            "text/markdown": [
              "---"
            ],
            "text/plain": [
              "<IPython.core.display.Markdown object>"
            ]
          },
          "metadata": {},
          "output_type": "display_data"
        },
        {
          "data": {
            "text/markdown": [
              "### Prompt 13:"
            ],
            "text/plain": [
              "<IPython.core.display.Markdown object>"
            ]
          },
          "metadata": {},
          "output_type": "display_data"
        },
        {
          "data": {
            "text/markdown": [
              "**Prompt:** Encourage followers to practice gratitude and share what they are thankful for today."
            ],
            "text/plain": [
              "<IPython.core.display.Markdown object>"
            ]
          },
          "metadata": {},
          "output_type": "display_data"
        },
        {
          "data": {
            "text/markdown": [
              "**Platform:** Facebook"
            ],
            "text/plain": [
              "<IPython.core.display.Markdown object>"
            ]
          },
          "metadata": {},
          "output_type": "display_data"
        },
        {
          "data": {
            "text/markdown": [
              "**Audience:** people interested in mindfulness and gratitude practices"
            ],
            "text/plain": [
              "<IPython.core.display.Markdown object>"
            ]
          },
          "metadata": {},
          "output_type": "display_data"
        },
        {
          "data": {
            "text/markdown": [
              "<br>"
            ],
            "text/plain": [
              "<IPython.core.display.Markdown object>"
            ]
          },
          "metadata": {},
          "output_type": "display_data"
        },
        {
          "data": {
            "text/markdown": [
              "**Generated Caption:** Here is a captivating caption that encourages Facebook users interested in mindfulness and gratitude practices to share their gratitude:\n",
              "\n",
              "**\"Gratitude Moment! 🙏 Take a pause from your busy day and reflect on what you're thankful for today. Share with us in the comments below: What's one thing that brings a smile to your face? Let's cultivate a mindset of appreciation together! 💕 #MindfulMoments #GratitudePractice\"**\n",
              "\n",
              "This caption aims to:\n",
              "\n",
              "* Encourage users to engage with the post by asking them to share what they're thankful for\n",
              "* Create a sense of community and shared experience among followers\n",
              "* Use a friendly, approachable tone that's in line with Facebook's platform norms\n",
              "* Include relevant hashtags (#MindfulMoments #GratitudePractice) to reach a wider audience interested in mindfulness and gratitude practices\n",
              "* Incorporate an emoji (🙏) to add a touch of warmth and personality to the post"
            ],
            "text/plain": [
              "<IPython.core.display.Markdown object>"
            ]
          },
          "metadata": {},
          "output_type": "display_data"
        },
        {
          "data": {
            "text/markdown": [
              "---"
            ],
            "text/plain": [
              "<IPython.core.display.Markdown object>"
            ]
          },
          "metadata": {},
          "output_type": "display_data"
        },
        {
          "data": {
            "text/markdown": [
              "### Prompt 14:"
            ],
            "text/plain": [
              "<IPython.core.display.Markdown object>"
            ]
          },
          "metadata": {},
          "output_type": "display_data"
        },
        {
          "data": {
            "text/markdown": [
              "**Prompt:** Highlight a favorite local business and the unique offerings that make it special."
            ],
            "text/plain": [
              "<IPython.core.display.Markdown object>"
            ]
          },
          "metadata": {},
          "output_type": "display_data"
        },
        {
          "data": {
            "text/markdown": [
              "**Platform:** Instagram"
            ],
            "text/plain": [
              "<IPython.core.display.Markdown object>"
            ]
          },
          "metadata": {},
          "output_type": "display_data"
        },
        {
          "data": {
            "text/markdown": [
              "**Audience:** local shoppers and community supporters"
            ],
            "text/plain": [
              "<IPython.core.display.Markdown object>"
            ]
          },
          "metadata": {},
          "output_type": "display_data"
        },
        {
          "data": {
            "text/markdown": [
              "<br>"
            ],
            "text/plain": [
              "<IPython.core.display.Markdown object>"
            ]
          },
          "metadata": {},
          "output_type": "display_data"
        },
        {
          "data": {
            "text/markdown": [
              "**Generated Caption:** \"Shoutout to our fave local spot! 🌟 Who else loves [Business Name]? Their signature [unique offering, e.g., coffee blend or artisanal ice cream] is a must-try! What's your go-to order? Tag a friend who needs to try it ASAP! 👉 #SupportLocal #FavoriteSpots\""
            ],
            "text/plain": [
              "<IPython.core.display.Markdown object>"
            ]
          },
          "metadata": {},
          "output_type": "display_data"
        },
        {
          "data": {
            "text/markdown": [
              "---"
            ],
            "text/plain": [
              "<IPython.core.display.Markdown object>"
            ]
          },
          "metadata": {},
          "output_type": "display_data"
        },
        {
          "data": {
            "text/markdown": [
              "### Prompt 15:"
            ],
            "text/plain": [
              "<IPython.core.display.Markdown object>"
            ]
          },
          "metadata": {},
          "output_type": "display_data"
        },
        {
          "data": {
            "text/markdown": [
              "**Prompt:** Discuss the importance of work-life balance and tips for achieving it in a fast-paced world."
            ],
            "text/plain": [
              "<IPython.core.display.Markdown object>"
            ]
          },
          "metadata": {},
          "output_type": "display_data"
        },
        {
          "data": {
            "text/markdown": [
              "**Platform:** Local Business Promotion"
            ],
            "text/plain": [
              "<IPython.core.display.Markdown object>"
            ]
          },
          "metadata": {},
          "output_type": "display_data"
        },
        {
          "data": {
            "text/markdown": [
              "**Audience:** professionals seeking work-life balance tips"
            ],
            "text/plain": [
              "<IPython.core.display.Markdown object>"
            ]
          },
          "metadata": {},
          "output_type": "display_data"
        },
        {
          "data": {
            "text/markdown": [
              "<br>"
            ],
            "text/plain": [
              "<IPython.core.display.Markdown object>"
            ]
          },
          "metadata": {},
          "output_type": "display_data"
        },
        {
          "data": {
            "text/markdown": [
              "**Generated Caption:** Here's a tailored caption that meets the requirements:\n",
              "\n",
              "**Caption:** \"Find harmony in chaos! 🌱💼 Need work-life balance tips? We've got you covered! 💡 Share your favorite tip for achieving balance in the comments below and tag a friend who needs it! #BalanceInHeels #SelfCareSunday\"\n",
              "\n",
              "**Analysis:**\n",
              "\n",
              "* **Engagement**: The caption encourages interaction by asking readers to share their favorite tip and inviting them to tag a friend.\n",
              "* **Tone**: The tone is professional yet approachable, appealing to professionals seeking work-life balance tips.\n",
              "* **Brevity**: The caption is concise, under the 280-character limit for Facebook.\n",
              "* **Hashtags**: Two relevant hashtags (#BalanceInHeels and #SelfCareSunday) are used to reach a targeted audience interested in work-life balance.\n",
              "* **Target Audience**: The caption specifically targets professionals seeking work-life balance tips, using language that resonates with them.\n",
              "* **Platform-Specific Best Practices**: As the post is for local business promotion on Facebook, I've maintained a professional tone and included relevant hashtags.\n",
              "* **Timeliness**: Although not explicitly referencing current trends or events, the hashtag #SelfCareSunday implies a connection to contemporary wellness initiatives.\n",
              "* **Emojis**: The emojis (🌱, 💼, 💡) add visual appeal and convey emotions, making the post more engaging."
            ],
            "text/plain": [
              "<IPython.core.display.Markdown object>"
            ]
          },
          "metadata": {},
          "output_type": "display_data"
        },
        {
          "data": {
            "text/markdown": [
              "---"
            ],
            "text/plain": [
              "<IPython.core.display.Markdown object>"
            ]
          },
          "metadata": {},
          "output_type": "display_data"
        }
      ],
      "source": [
        "# Define a new list of social media caption prompts\n",
        "prompts = [\n",
        "    \"An inspiring caption about personal growth and the importance of self-reflection.\",\n",
        "    \"A heartwarming post celebrating friendships and the moments that make them special.\",\n",
        "    \"Discuss the latest trends in sustainable fashion and why they matter for our environment.\",\n",
        "    \"A motivational message encouraging people to pursue their passions and dreams.\",\n",
        "    \"Share tips for maintaining mental health during stressful times and the importance of self-care.\",\n",
        "    \"Highlight a local charity's efforts and encourage followers to support their cause.\",\n",
        "    \"A fun fact about the benefits of reading books and how it can enrich our lives.\",\n",
        "    \"Promote the joy of travel and the benefits of exploring new cultures and experiences.\",\n",
        "    \"An engaging post about the significance of community service and how to get involved.\",\n",
        "    \"Share a delicious recipe for a healthy meal that’s easy to prepare at home.\",\n",
        "    \"Discuss the impact of technology on our daily lives and how to find a healthy balance.\",\n",
        "    \"Celebrate diversity and inclusion, highlighting stories from different cultures and backgrounds.\",\n",
        "    \"Encourage followers to practice gratitude and share what they are thankful for today.\",\n",
        "    \"Highlight a favorite local business and the unique offerings that make it special.\",\n",
        "    \"Discuss the importance of work-life balance and tips for achieving it in a fast-paced world.\"\n",
        "]\n",
        "\n",
        "# Define the list of social media platforms corresponding to each prompt\n",
        "platforms = [\n",
        "    \"Instagram\",\n",
        "    \"Facebook\",\n",
        "    \"Twitter\",\n",
        "    \"LinkedIn\",\n",
        "    \"Instagram\",\n",
        "    \"Facebook\",\n",
        "    \"Twitter\",\n",
        "    \"Instagram\",\n",
        "    \"Facebook\",\n",
        "    \"Instagram\",\n",
        "    \"LinkedIn\",\n",
        "    \"Instagram\",\n",
        "    \"Facebook\",\n",
        "    \"Instagram\",\n",
        "    \"Local Business Promotion\",\n",
        "    \"LinkedIn\"\n",
        "]\n",
        "\n",
        "# Define the list of target audiences corresponding to each prompt\n",
        "audiences = [\n",
        "    \"young adults interested in personal development\",\n",
        "    \"friends and families looking to connect\",\n",
        "    \"fashion enthusiasts and eco-conscious consumers\",\n",
        "    \"individuals seeking motivation and inspiration\",\n",
        "    \"people managing stress and prioritizing mental health\",\n",
        "    \"community members wanting to give back\",\n",
        "    \"book lovers and lifelong learners\",\n",
        "    \"travel enthusiasts and cultural explorers\",\n",
        "    \"volunteers and community service advocates\",\n",
        "    \"health-conscious individuals looking for easy recipes\",\n",
        "    \"tech-savvy individuals seeking balance in life\",\n",
        "    \"diversity advocates and socially aware individuals\",\n",
        "    \"people interested in mindfulness and gratitude practices\",\n",
        "    \"local shoppers and community supporters\",\n",
        "    \"professionals seeking work-life balance tips\"\n",
        "]\n",
        "\n",
        "class SimpleQA(Component):\n",
        "    def __init__(self, model_client: ModelClient, model_kwargs: dict):\n",
        "        super().__init__()\n",
        "        self.generator = Generator(\n",
        "            model_client=model_client,\n",
        "            model_kwargs=model_kwargs,\n",
        "            template=qa_template,\n",
        "        )\n",
        "\n",
        "    def call(self, input: dict) -> str:\n",
        "        return self.generator.call({\n",
        "            \"input_str\": input['description'],\n",
        "            \"platform\": input['platform'],\n",
        "            \"audience\": input['audience'],\n",
        "        })\n",
        "\n",
        "    async def acall(self, input: dict) -> str:\n",
        "        return await self.generator.acall({\n",
        "            \"input_str\": input['description'],\n",
        "            \"platform\": input['platform'],\n",
        "            \"audience\": input['audience'],\n",
        "        })\n",
        "\n",
        "# Initialize the model and generator\n",
        "from lightrag.components.model_client import OllamaClient\n",
        "from IPython.display import Markdown, display\n",
        "\n",
        "# Example input\n",
        "input_data = {\n",
        "    \"description\": \"Promote a newly released coffee blend designed for 15-30 year olds with a fun, youthful vibe.\",\n",
        "    \"platform\": \"Instagram\",\n",
        "    \"audience\": \"15-30 year olds who enjoy trendy, youthful content\",\n",
        "}\n",
        "\n",
        "# Create the model instance\n",
        "model = {\n",
        "    \"model_client\": OllamaClient(),\n",
        "    \"model_kwargs\": {\"model\": \"llama3.1:8b\"}\n",
        "}\n",
        "qa = SimpleQA(**model)\n",
        "\n",
        "# Loop over the prompts, platforms, and audiences and display the prompt and the generated captions\n",
        "for idx, (prompt, platform, audience) in enumerate(zip(prompts, platforms, audiences), 1):\n",
        "    # Define the input data for each prompt\n",
        "    input_data = {\n",
        "        \"description\": prompt,  # Use the current prompt as the description\n",
        "        \"platform\": platform,    # Use the corresponding platform\n",
        "        \"audience\": audience,    # Use the corresponding audience\n",
        "    }\n",
        "\n",
        "    output = qa(input_data)  # Pass the input data to the qa function\n",
        "\n",
        "    display(Markdown(f\"### Prompt {idx}:\"))\n",
        "    display(Markdown(f\"**Prompt:** {prompt}\"))\n",
        "    display(Markdown(f\"**Platform:** {platform}\"))\n",
        "    display(Markdown(f\"**Audience:** {audience}\"))\n",
        "    display(Markdown(\"<br>\"))\n",
        "    display(Markdown(f\"**Generated Caption:** {output.data}\"))\n",
        "    display(Markdown(\"---\"))"
      ]
    },
    {
      "cell_type": "code",
      "execution_count": null,
      "metadata": {
        "id": "tBZwQxNSoBBl"
      },
      "outputs": [],
      "source": []
    }
  ],
  "metadata": {
    "colab": {
      "provenance": []
    },
    "kernelspec": {
      "display_name": "Python 3",
      "name": "python3"
    },
    "language_info": {
      "name": "python"
    }
  },
  "nbformat": 4,
  "nbformat_minor": 0
}
