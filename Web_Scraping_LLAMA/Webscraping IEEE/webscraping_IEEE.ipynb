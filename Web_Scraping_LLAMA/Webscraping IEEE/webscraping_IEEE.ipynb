{
 "cells": [
  {
   "cell_type": "markdown",
   "metadata": {
    "id": "wD4GnGo4eScG"
   },
   "source": [
    "\n",
    "https://colab.research.google.com/drive/1MUFonUP4nlgtYoPIglnr0HsUsqljz64A#scrollTo=Jnl1ReNfmfd5\n",
    "\n",
    "For the google-colab-selenium install\n"
   ]
  },
  {
   "cell_type": "code",
   "execution_count": 1,
   "metadata": {
    "id": "AB8N3F-EXS_9"
   },
   "outputs": [],
   "source": [
    "#%pip install -q google-colab-selenium[undetected]"
   ]
  },
  {
   "cell_type": "code",
   "execution_count": 2,
   "metadata": {
    "id": "Gf0DCiaEUUCR"
   },
   "outputs": [],
   "source": [
    "from selenium import webdriver\n",
    "#import google_colab_selenium as gs\n",
    "from selenium.webdriver.common.by import By\n",
    "from selenium.webdriver.common.keys import Keys\n",
    "from selenium.webdriver.chrome.service import Service\n",
    "from selenium.webdriver.chrome.options import Options\n",
    "from time import sleep\n",
    "from selenium.common.exceptions import NoSuchElementException\n",
    "from selenium.webdriver.support.wait import WebDriverWait\n",
    "from selenium.webdriver.support import expected_conditions as EC"
   ]
  },
  {
   "cell_type": "code",
   "execution_count": 3,
   "metadata": {
    "colab": {
     "base_uri": "https://localhost:8080/",
     "height": 78
    },
    "id": "m4DGBP8uermu",
    "outputId": "76bbe00a-c645-4ddd-c640-119505507015",
    "scrolled": true
   },
   "outputs": [],
   "source": [
    "# # Instantiate options\n",
    "options = Options()\n",
    "\n",
    "# Add extra options\n",
    "options.add_argument(\"--disable-infobars\")  # Disable the infobars\n",
    "options.add_argument(\"--disable-popup-blocking\")  # Disable pop-ups\n",
    "options.add_argument(\"--ignore-certificate-errors\")  # Ignore certificate errors\n",
    "options.add_argument(\"--incognito\")  # Use Chrome in incognito mode\n",
    "\n",
    "\n",
    "#driver = gs.Chrome(options=options)"
   ]
  },
  {
   "cell_type": "code",
   "execution_count": 4,
   "metadata": {
    "colab": {
     "base_uri": "https://localhost:8080/",
     "height": 651
    },
    "id": "rb-GPLEq2GgR",
    "outputId": "6c619048-a67d-4f2f-b7d6-59c9f663a0c3"
   },
   "outputs": [],
   "source": [
    "#run without driver on path\n",
    "# from selenium.webdriver.chrome.service import Service\n",
    "# DRIVER_PATH = \"C:\\Program Files (x86)\\Selenium\\chromedriver_win64\\chromedriver.exe\"\n",
    "# service = Service(executable_path=DRIVER_PATH)\n",
    "# driver = webdriver.Chrome(service=service)\n",
    "\n"
   ]
  },
  {
   "cell_type": "code",
   "execution_count": 5,
   "metadata": {},
   "outputs": [],
   "source": [
    "def author_info(name):\n",
    "    driver = webdriver.Chrome(options=options)\n",
    "    information={}\n",
    "    driver.implicitly_wait(5)\n",
    "    driver.get(\"https://ieeexplore.ieee.org/Xplore/home.jsp\")\n",
    "    \n",
    "\n",
    "    #driver.implicitly_wait(5)\n",
    "    \n",
    "    \n",
    "    input_element = driver.find_element(By.XPATH, \"//div[@class='Typeahead text-sm-md-lh']/input\")\n",
    "    \n",
    "    \n",
    "    input_element.clear()\n",
    "    input_element.send_keys(name + Keys.ENTER)\n",
    "    \n",
    "    author_element = driver.find_element(By.CSS_SELECTOR, 'span.highlight')\n",
    "    try:\n",
    "        author_href = author_element.find_element(By.XPATH, './ancestor::xpl-authors-name-list')\n",
    "    except:\n",
    "        print(\"There is no record of this person\")\n",
    "        exit()\n",
    "    \n",
    "    #author_href = author_element.find_element(By.XPATH, './ancestor::a').get_attribute('href')\n",
    "    \n",
    "    #if str(author_href) == \"\":\n",
    "     #   exit(\"There is no record of this person\")\n",
    "    #elif \"/document\" in str(author_href):\n",
    "     #   exit(\"There is no record of this person as an author, but there are some research on them\")\n",
    "    #driver.implicitly_wait(5)\n",
    "    \n",
    "    \n",
    "    input_element = driver.find_element(By.XPATH, \"//div[@class='Typeahead text-sm-md-lh']/input\")\n",
    "    \n",
    "    \n",
    "    input_element.clear()\n",
    "    input_element.send_keys(name + Keys.ENTER)\n",
    "    \n",
    "    author_element = driver.find_element(By.CSS_SELECTOR, 'span.highlight')\n",
    "    \n",
    "    author_href = author_element.find_element(By.XPATH, './ancestor::a').get_attribute('href')\n",
    "    \n",
    "    driver.get(author_href)\n",
    "    \n",
    "    x=driver.find_element(By.XPATH, '//button')\n",
    "    x.click()\n",
    "\n",
    "    x=driver.find_elements(By.XPATH, '//button[text()=\"Show More\"]')\n",
    "    \n",
    "    for i in x:\n",
    "        i.click()\n",
    "    \n",
    "    bio = driver.find_element(By.XPATH, \"//div[@class='biography']/span\").text\n",
    "    \n",
    "    \n",
    "    x=driver.find_element(By.XPATH, '//*[@id=\"authorProfile\"]/div[3]/div[1]/div/div[2]/div[2]/span[2]/button')\n",
    "    x.click()\n",
    "    \n",
    "    \n",
    "    names = []\n",
    "    names.append(driver.find_element(By.XPATH, \"//h1[@class='hide-mobile']\").text)\n",
    "    [names.append(name.text) for name in driver.find_elements(By.XPATH, \"//p[@class='hide-mobile']/span\")]\n",
    "    information['Published under']=names\n",
    "    information['bio']=bio\n",
    "    #print(bio)\n",
    "    #print(names)\n",
    "    \n",
    "    #driver.quit()\n",
    "    \n",
    "    temp=driver.find_elements(By.XPATH, \"//div[@class='current-affiliation text-base-md-lh']/div/div\")\n",
    "    affiliations=[]\n",
    "    for i in temp:\n",
    "        affiliations.append(i.text)\n",
    "    \n",
    "    information['affiliations']=affiliations\n",
    "\n",
    "    try:\n",
    "        show = driver.find_element(By.XPATH,\"//*[@id='authorProfile']/div[3]/div[1]/div/div[2]/xpl-author-keywords/div/div[2]/a\")\n",
    "        driver.execute_script(\"arguments[0].click();\", show)\n",
    "    except:\n",
    "        button=\"\"\n",
    "    \n",
    "    temp=driver.find_elements(By.XPATH, \"//div[@class='research-areas']/div\")\n",
    "    topics=[]\n",
    "    for i in range(len(temp)-1):\n",
    "        topics.append(temp[i].text)\n",
    "    \n",
    "    \n",
    "    information['topics']=topics[0].split(',')\n",
    "    \n",
    "    temp=driver.find_elements(By.XPATH, \"//div[@class='pub-citation-count']\")\n",
    "    x=[]\n",
    "    for i in temp:\n",
    "        if(i.text!=''):\n",
    "            x.append(int(i.text.replace(',','')))\n",
    "    publications,citations=x\n",
    "    information['Number of Publications']=publications\n",
    "    information['Number of Citations']=citations\n",
    "    link_to_photo=driver.find_element(By.XPATH, \"//*[@id='authorProfile']/div[3]/div[1]/div/div[1]/img\").get_attribute('src')\n",
    "    \n",
    "    information['Link to photo']=link_to_photo\n",
    "    \n",
    "    driver.quit()\n",
    "    return information"
   ]
  },
  {
   "cell_type": "code",
   "execution_count": 6,
   "metadata": {},
   "outputs": [],
   "source": [
    "name = input(\"Enter the name of the author you're looking for: \")"
   ]
  },
  {
   "cell_type": "code",
   "execution_count": 7,
   "metadata": {},
   "outputs": [],
   "source": [
    "x=author_info(name)"
   ]
  },
  {
   "cell_type": "code",
   "execution_count": 8,
   "metadata": {},
   "outputs": [
    {
     "data": {
      "text/plain": [
       "{'Published under': ['Okyay Kaynak', 'O. M. Kaynak,', 'O. Kaynak'],\n",
       " 'bio': \"Okyay Kaynak (M'83–SM'90–F'03) received the B.Sc. degree (First Class Hons.) and the Ph.D. degree in electronic and electrical engineering from the University of Birmingham, Birmingham, U.K., in 1969 and 1972 respectively.,From 1972 to 1979, he held various positions within the industry that included 3.5 years in Saudi Arabia, working as a project engineer. In 1979, he joined the Department of Electrical and Electronics Engineering, Bogazici University, Istanbul, Turkey, where he is presently an Emeritus Professor. He has served as the Founding Chairman of the Computer Engineering, the Chairman of the Electrical and Electronic Engineering Departments and as the Director of Biomedical Engineering Institute at this university. He has held long-term (near to or more than a year) Visiting Professor/Scholar positions at various institutions in Japan, Germany, U.S., Singapore and China. He has authored three books and edited five and authored or coauthored more than 400 papers that have appeared in various journals and conference proceedings. His current research interests are in the fields of industrial cyber physical systems and intelligent systems. Dr. Kaynak is a fellow of IEEE. He has served on the Editorial or Advisory Boards of several scholarly journals. He was the Editor-in-Chief of IEEE Trans. on Industrial Informatics during 2005-2006, IEEE/ASME Trans. on Mechatronics during 2014-2016, and Co-Editor in Chief of IEEE Trans. on Industrial Electronics during 2009-2012. He currently serves as the Founding Editor-in-Chief of the new IEEE Journal, Trans. on Industrial Cyber-Physical Systems. He is active in international organizations, has served on many committees of the IEEE, and was the President of the IEEE Industrial Electronics Society from 2002 to 2003.\",\n",
       " 'affiliations': ['Bogazici University, Istanbul, Türkiye'],\n",
       " 'topics': ['Industrial Cyber Physical Systems',\n",
       "  'Digital Twins',\n",
       "  'AI-augmented Techniques for Process Optimization',\n",
       "  'Data-driven Methods',\n",
       "  'Numerical Simulations',\n",
       "  'Optimal Control',\n",
       "  'Adaptive Control',\n",
       "  'Fault Diagnosis',\n",
       "  'Fault-tolerant Control',\n",
       "  'Industrial Systems',\n",
       "  'Model-based Methods',\n",
       "  'Residual Generator',\n",
       "  'Tracking Error',\n",
       "  'Benchmark Study',\n",
       "  'Closed-loop System',\n",
       "  'Control System',\n",
       "  'Feedback Control',\n",
       "  'Lower Triangular',\n",
       "  'Measurement Data',\n",
       "  'Neural Network',\n",
       "  'Nonlinear Systems',\n",
       "  'Process Monitoring',\n",
       "  'Sliding Mode Control',\n",
       "  'System Dynamics',\n",
       "  'Adaptive Fuzzy',\n",
       "  'Adaptive Law'],\n",
       " 'Number of Publications': 259,\n",
       " 'Number of Citations': 12161,\n",
       " 'Link to photo': 'https://ieeexplore.ieee.org/mediastore/IEEE/content/author_profile_image/38179731500.gif'}"
      ]
     },
     "execution_count": 8,
     "metadata": {},
     "output_type": "execute_result"
    }
   ],
   "source": [
    "x"
   ]
  },
  {
   "cell_type": "code",
   "execution_count": 9,
   "metadata": {},
   "outputs": [],
   "source": [
    "#going through the websites "
   ]
  },
  {
   "cell_type": "code",
   "execution_count": 10,
   "metadata": {},
   "outputs": [],
   "source": [
    "#name='Okyay Kaynak'"
   ]
  },
  {
   "cell_type": "code",
   "execution_count": 11,
   "metadata": {},
   "outputs": [],
   "source": [
    "def get_links(name,n=10,links_from=\"https://scholar.google.com/\"):\n",
    "    driver = webdriver.Chrome(options=options)\n",
    "    driver.get(links_from)\n",
    "    \n",
    "    input=driver.find_element(By.XPATH,\"//input[@name='q']\")\n",
    "    input.clear()\n",
    "    input.send_keys(name + Keys.ENTER)\n",
    "    links=[]\n",
    "    for i in range(n):\n",
    "        link = driver.find_element(By.XPATH,f\"//div[@data-rp={i}]//h3[@ontouchstart]//a\")\n",
    "        links.append(link.get_attribute('href'))\n",
    "    driver.quit()\n",
    "    return links"
   ]
  },
  {
   "cell_type": "code",
   "execution_count": 12,
   "metadata": {},
   "outputs": [],
   "source": [
    "def research_info(link):\n",
    "    info={}\n",
    "    driver = webdriver.Chrome(options=options)\n",
    "    driver.get(link)\n",
    "    abstract=True\n",
    "    title=True\n",
    "    try:\n",
    "        accept_button = WebDriverWait(driver, 10).until(\n",
    "            EC.element_to_be_clickable((By.XPATH, \"//button[contains(text(), 'Accept') or contains(text(), 'agree') or contains(text(), 'OK') or contains(text(), 'Yes')]\"))\n",
    "        )\n",
    "        accept_button.click()\n",
    "    except:\n",
    "        cookies=\"None\"\n",
    "\n",
    "    try:\n",
    "        a=driver.find_element(By.XPATH,\"//xpl-document-abstract/section/div[1]/div[1]/div/div/span[2]/a\")\n",
    "        driver.execute_script(\"arguments[0].click();\", a)\n",
    "    except:\n",
    "        more=\"nope\"\n",
    "\n",
    "    \n",
    "    try:\n",
    "        abstract=driver.find_element(By.XPATH,\"//h2[contains(normalize-space(text()), 'Abstract')]/following-sibling::div\").text\n",
    "        info['abstract']=abstract\n",
    "    except NoSuchElementException:\n",
    "        abstract=False\n",
    "    if(abstract==False or abstract==\"\"):\n",
    "        try:\n",
    "            abstract=driver.find_element(By.XPATH,\"//div[contains(@class, 'Abstract')] | //div[contains(@class, 'abstract')]\").text\n",
    "        except:\n",
    "            abstract=False\n",
    "    if(abstract==False or abstract==\"\"):\n",
    "        try:\n",
    "            abstract=driver.find_element(By.XPATH,\"//div[contains(@id, 'Abstract')] | //div[contains(@id, 'abstract')]\").text\n",
    "        except:\n",
    "            abstract=False\n",
    "    if(abstract==False or abstract==\"\"):\n",
    "        try:\n",
    "            abstract=driver.find_element(By.XPATH,\"//span[contains(@class, 'Abstract')] | //div[contains(@class, 'abstract')]\").text\n",
    "        except:\n",
    "            abstract=False\n",
    "    if(abstract==False or abstract==\"\"):\n",
    "        try:\n",
    "            abstract=driver.find_element(By.XPATH,\"//span[contains(@id, 'Abstract')] | //div[contains(@id, 'abstract')]\").text\n",
    "        except:\n",
    "            abstract=False\n",
    "    \n",
    "\n",
    "    \n",
    "    try:\n",
    "        title=driver.find_element(By.XPATH,\"//h2[contains(normalize-space(text()), 'Title')]/following-sibling::div\").text\n",
    "        info['title']=title\n",
    "    except NoSuchElementException:\n",
    "        title=False\n",
    "    \n",
    "    if(title==False or title==\"\"):\n",
    "        try:\n",
    "            title=driver.find_element(By.XPATH,\"//h1\").text\n",
    "            info['title']=title\n",
    "        except NoSuchElementException:\n",
    "            title=False\n",
    "\n",
    "    if(title==False or title==\"\"):\n",
    "        try:\n",
    "            title=driver.find_element(By.XPATH,\"//h1/span\").text\n",
    "            info['title']=title\n",
    "        except NoSuchElementException:\n",
    "            title=False\n",
    "\n",
    "    info['title']=title\n",
    "    info['abstract']=abstract\n",
    "    driver.quit()\n",
    "    return info\n",
    "    "
   ]
  },
  {
   "cell_type": "code",
   "execution_count": 13,
   "metadata": {},
   "outputs": [],
   "source": [
    "links=get_links(name)"
   ]
  },
  {
   "cell_type": "code",
   "execution_count": 14,
   "metadata": {},
   "outputs": [],
   "source": [
    "from concurrent.futures import ThreadPoolExecutor"
   ]
  },
  {
   "cell_type": "code",
   "execution_count": 15,
   "metadata": {},
   "outputs": [],
   "source": [
    "with ThreadPoolExecutor() as exe:\n",
    "    papers=list(exe.map(research_info,links))"
   ]
  },
  {
   "cell_type": "code",
   "execution_count": 16,
   "metadata": {},
   "outputs": [
    {
     "data": {
      "text/plain": [
       "[{'abstract': 'This paper provides an overview of the recent developments in data-based techniques focused on modern industrial applications. As one of the hottest research topics for complicated processes, the data-based techniques have been rapidly developed over the past two decades and widely used in numerous industrial sectors nowadays. The core of data-based techniques is to take full advantage of the huge amounts of available process data, aiming to acquire the useful information within. Compared with the well-developed model-based approaches, data-based techniques provide efficient alternative solutions for different industrial issues under various operating conditions. The main objective of this paper is to review and summarize the recent achievements in data-based techniques, especially for complicated industrial applications, thus providing a referee for further study on the related topics both from academic and practical points of view. This paper begins with a brief evolutionary overview of data-based techniques in the last two decades. Then, the methodologies only based on process measurements and the model–data integrated techniques will be further introduced. The recent developments for modern industrial applications are, respectively, presented mainly from perspectives of monitoring and control. The new trends of data-based technique as well as potential application fields are finally discussed.',\n",
       "  'title': 'Data-Based Techniques Focused on Modern Industry: An Overview'},\n",
       " {'abstract': \"We are living in an era of data deluge and as a result, the term ``big data'' is appearing in many contexts, from meteorology, genomics, complex physics simulations, biological and environmental research, finance and business to healthcare. As the name implies, big data literally means large collections of data sets containing abundant information. However, it has some special characteristics that distinguish it from “very large data”or “massive data”that are simply enormous collections of simple-format records, typically equivalent to enormous spreadsheets. Big data, being generally unstructured and heterogeneous, is extremely complex to deal with via traditional approaches, and requires real-time or almost real-time analysis. A short definition can therefore be that “big data” refers to data sets whose size is beyond the ability of typical database software tools to capture, store, manage, and analyze.\",\n",
       "  'title': 'Big Data for Modern Industry: Challenges and Trends [Point of View]'},\n",
       " {'abstract': 'The study of artificial intelligence (AI) has been a continuous endeavor of scientists and engineers for over 65 years. The simple contention is that human-created machines can do more than just labor-intensive work; they can develop human-like intelligence. Being aware or not, AI has penetrated into our daily lives, playing novel roles in industry, healthcare, transportation, education, and many more areas that are close to the general public. AI is believed to be one of the major drives to change socio-economical lives. In another aspect, AI contributes to the advancement of state-of-the-art technologies in many fields of study, as helpful tools for groundbreaking research. However, the prosperity of AI as we witness today was not established smoothly. During the past decades, AI has struggled through historical stages with several winters. Therefore, at this juncture, to enlighten future development, it is time to discuss the past, present, and have an outlook on AI. In this article, we will discuss from a historical perspective how challenges were faced on the path of revolution of both the AI tools and the AI systems. Especially, in addition to the technical development of AI in the short to mid-term, thoughts and insights are also presented regarding the symbiotic relationship of AI and humans in the long run.',\n",
       "  'title': 'Quo vadis artificial intelligence?'},\n",
       " {'abstract': 'During the last two decades, profound technological changes have taken place around us, supported by disruptive advances, both on the software and hardware sides. An amalgamation of information, communication, and artificial intelligence is taking place, as well as the cross-fertilization of a wide range of concepts, referred to as the digital transformation. While the discussion on how to operationalize the new intelligent systems of the fourth industrial revolution, Industry 4.0, is still going on; the dominant characteristics of the fifth industrial revolution, Industry 5.0 – going beyond producing goods and services for profit – requires all to think and act differently. As a result of the convergence phenomenon, the boundaries between different disciplines are eroding, necessitating a thorough discussion on what engineering education should be like in the future. In this paper, after presenting a brief history of engineering education, the recent paradigm changes are discussed, which essentially stress that skills must prevail over degrees to deal with challenges posed by the trends of the fifth industrial revolution. Later, before concluding the paper four strategies are presented such as lifelong learning and transdisciplinary education (1), sustainability, resilience, and human-centric design modules (2), hands-on data fluency and management courses (3) and human-agent/machine/robot/computer interaction experiences (4).',\n",
       "  'title': 'Rethinking engineering education at the age of industry 5.0'},\n",
       " {'abstract': 'Networked control systems (NCSs) have, in recent years, brought many innovative impacts to control systems. However, great challenges are also met due to the network-induced imperfections. Such network-induced imperfections are handled as various constraints, which should appropriately be considered in the analysis and design of NCSs. In this paper, the main methodologies suggested in the literature to cope with typical network-induced constraints, namely time delays, packet losses and disorder, time-varying transmission intervals, competition of multiple nodes accessing networks, and data quantization are surveyed; the constraints suggested in the literature on the first two types of constraints are updated in different categorizing ways; and those on the latter three types of constraints are extended.',\n",
       "  'title': 'Network-Induced Constraints in Networked Control Systems—A Survey'},\n",
       " {'abstract': 'Being able to forecast time series accurately has been quite a popular subject for researchers both in the past and at present. However, the lack of ability of conventional analysis methods to forecast time series that are not smooth leads the scientists and researchers to resort to various forecasting models that have different mathematical backgrounds, such as artificial neural networks, fuzzy predictors, evolutionary and genetic algorithms. In this paper, the accuracies of different grey models such as GM(1,1), Grey Verhulst model, modified grey models using Fourier Series is investigated. Highly noisy data, the United States dollar to Euro parity between the dates 01.01.2005 and 30.12.2007, are used to compare the performances of the different models. The simulation results show that modified grey models have higher performances not only on model fitting but also on forecasting. Among these grey models, the modified GM(1,1) using Fourier series in time is the best in model fitting and forecasting.',\n",
       "  'title': 'Grey system theory-based models in time series prediction'},\n",
       " {'abstract': 'The stability of discrete-time sliding mode control systems is investigated and a new sliding mode condition is suggested. It is shown that the control must have upper and lower bounds. A numerical example is discussed as an illustration.',\n",
       "  'title': 'On the stability of discrete-time sliding mode control systems'},\n",
       " {'abstract': 'This brief addresses the problem of control for active vehicle suspension systems in finite frequency domain. The performance is used to measure ride comfort so that more general road disturbances can be considered. By using the generalized Kalman-Yakubovich-Popov (KYP) lemma, the norm from the disturbance to the controlled output is decreased in specific frequency band to improve the ride comfort. Compared with the entire frequency approach, the finite frequency approach suppresses the vibration more effectively for the concerned frequency range. In addition, the time-domain constraints, which represent performance requirements for vehicle suspensions, are guaranteed in the controller design. A state feedback controller is designed in the framework of linear matrix inequality (LMI) optimization. A quarter-car model with active suspension system is considered in this brief and a numerical example is employed to illustrate the effectiveness of the proposed approach.',\n",
       "  'title': 'Finite Frequency\\nH\\n∞\\nControl for Vehicle Active Suspension Systems'},\n",
       " {'abstract': 'Over the past twenty years, numerous research outcomes have been published, related to the design and implementation of soft sensors. In modern industrial processes, various types of soft sensors are used, which play essential roles in process monitoring, control and optimization. Emerging new theories, advanced techniques and the information infrastructure have enabled the elevation of the performance of soft sensing. However, novel opportunities are accompanied by novel challenges. This work is motivated by these observations and aims to present a comprehensive review of the developments since the start of the millennium. While a few books and review articles are published on the related topics, more focus on the most up-to-the-date advancement is put in this work, from the perspective of systems and control.',\n",
       "  'title': 'A Review on Soft Sensors for Monitoring, Control, and Optimization of Industrial Processes'},\n",
       " {'abstract': 'Sliding-mode control (SMC) has been studied extensively for over 50 years and widely used in practical applications due to its simplicity and robustness against parameter variations and disturbances. Despite the extensive research activities carried out, the key technical problems associated with SMC remain as challenging research questions due to demands for new industrial applications and technological advances. In this respect, soft computing (SC) is a rather recent development in intelligent systems which has provided alternative means for adaptive learning and control to overcome the key SMC technical problems. Substantial efforts in integration of SMC with SC have been placed in recent years with various successes. In this paper, we provide the state of the art of recent developments in SMC systems with SC, examining key technical research issues and future perspectives.',\n",
       "  'title': 'Sliding-Mode Control With Soft Computing: A Survey'}]"
      ]
     },
     "execution_count": 16,
     "metadata": {},
     "output_type": "execute_result"
    }
   ],
   "source": [
    "papers"
   ]
  },
  {
   "cell_type": "code",
   "execution_count": 17,
   "metadata": {},
   "outputs": [
    {
     "ename": "SyntaxError",
     "evalue": "unterminated string literal (detected at line 19) (1872438976.py, line 19)",
     "output_type": "error",
     "traceback": [
      "\u001b[1;36m  Cell \u001b[1;32mIn[17], line 19\u001b[1;36m\u001b[0m\n\u001b[1;33m    \"\"\"\"\u001b[0m\n\u001b[1;37m       ^\u001b[0m\n\u001b[1;31mSyntaxError\u001b[0m\u001b[1;31m:\u001b[0m unterminated string literal (detected at line 19)\n"
     ]
    }
   ],
   "source": [
    "#playing around\n",
    "\"\"\"\"\n",
    "driver = webdriver.Chrome(options=options)\n",
    "\n",
    "driver.get(\"https://www.researchgate.net/\")\n",
    "\n",
    "input=driver.find_element(By.XPATH,\"//input\")\n",
    "input.clear()\n",
    "input.send_keys(\"O. Kaynak\" + Keys.ENTER)\n",
    "#sleep(5)\n",
    "sleep(10)\n",
    "cap=driver.find_element(By.XPATH,\"//input\")\n",
    "cap.click()\n",
    "\n",
    "sleep(5)\n",
    "\n",
    "\n",
    "driver.quit()\n",
    "\"\"\"\"\n",
    "#need capcha"
   ]
  },
  {
   "cell_type": "code",
   "execution_count": null,
   "metadata": {},
   "outputs": [],
   "source": []
  }
 ],
 "metadata": {
  "colab": {
   "provenance": []
  },
  "kernelspec": {
   "display_name": "Python 3",
   "language": "python",
   "name": "python3"
  },
  "language_info": {
   "codemirror_mode": {
    "name": "ipython",
    "version": 3
   },
   "file_extension": ".py",
   "mimetype": "text/x-python",
   "name": "python",
   "nbconvert_exporter": "python",
   "pygments_lexer": "ipython3",
   "version": "3.12.4"
  }
 },
 "nbformat": 4,
 "nbformat_minor": 4
}
