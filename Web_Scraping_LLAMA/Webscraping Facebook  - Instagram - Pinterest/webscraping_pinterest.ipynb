{
 "cells": [
  {
   "cell_type": "code",
   "execution_count": 29,
   "id": "c58c0f78-e818-43d1-8715-d57909e8037e",
   "metadata": {},
   "outputs": [],
   "source": [
    "from selenium import webdriver\n",
    "#import google_colab_selenium as gs\n",
    "from selenium.webdriver.common.by import By\n",
    "from selenium.webdriver.common.keys import Keys\n",
    "from selenium.webdriver.chrome.service import Service\n",
    "from selenium.webdriver.chrome.options import Options\n",
    "from time import sleep\n",
    "from selenium.common.exceptions import NoSuchElementException \n",
    "\n",
    "from selenium.webdriver.support.ui import WebDriverWait\n",
    "from selenium.webdriver.support import expected_conditions as EC"
   ]
  },
  {
   "cell_type": "code",
   "execution_count": 30,
   "id": "e5477cd2-0ecb-4ad4-9c25-b5ecc50e2d2f",
   "metadata": {},
   "outputs": [],
   "source": [
    "# # Instantiate options\n",
    "options = Options()\n",
    "\n",
    "# Add extra options\n",
    "options.add_argument(\"--disable-infobars\")  # Disable the infobars\n",
    "options.add_argument(\"--disable-popup-blocking\")  # Disable pop-ups\n",
    "options.add_argument(\"--ignore-certificate-errors\")  # Ignore certificate errors\n",
    "options.add_argument(\"--incognito\")  # Use Chrome in incognito mode\n",
    "\n",
    "\n",
    "#driver = gs.Chrome(options=options)"
   ]
  },
  {
   "cell_type": "code",
   "execution_count": 31,
   "id": "e8eff240-dd75-4ab4-ab48-2315ce8b3c3b",
   "metadata": {},
   "outputs": [],
   "source": [
    "driver=webdriver.Chrome(options=options)"
   ]
  },
  {
   "cell_type": "code",
   "execution_count": 32,
   "id": "518387ac-da25-435a-ba4d-5113b96642b6",
   "metadata": {},
   "outputs": [],
   "source": [
    "driver.get('https://www.pinterest.com/')\n",
    "sleep(3)"
   ]
  },
  {
   "cell_type": "code",
   "execution_count": 33,
   "id": "dd3adc71-31b4-4381-aa79-f940172502de",
   "metadata": {},
   "outputs": [],
   "source": [
    "explore=driver.find_element(By.XPATH,'//div[@class=\"Eqh fev zI7 iyn Hsu\"][2]/a')"
   ]
  },
  {
   "cell_type": "code",
   "execution_count": 34,
   "id": "83a48816-e19f-46c3-8edd-df1bb660e09f",
   "metadata": {},
   "outputs": [],
   "source": [
    "explore.click()\n",
    "sleep(3)"
   ]
  },
  {
   "cell_type": "code",
   "execution_count": 35,
   "id": "b2220c32-b5b9-4663-9e7d-ddc9caaa861a",
   "metadata": {},
   "outputs": [],
   "source": [
    "details={}\n",
    "feed=[]"
   ]
  },
  {
   "cell_type": "code",
   "execution_count": 36,
   "id": "1089f6b0",
   "metadata": {},
   "outputs": [],
   "source": [
    "import queue"
   ]
  },
  {
   "cell_type": "code",
   "execution_count": 37,
   "id": "17d8f812",
   "metadata": {},
   "outputs": [],
   "source": [
    "q=queue.Queue()"
   ]
  },
  {
   "cell_type": "code",
   "execution_count": 38,
   "id": "5f43e000-a4b9-480c-9447-54df5205e7c6",
   "metadata": {},
   "outputs": [],
   "source": [
    "def getCapAndImage(a,q):\n",
    "    driver=webdriver.Chrome(options=options)\n",
    "    driver.get(a)\n",
    "    text=driver.find_element(By.XPATH, \"//h1\").text\n",
    "    image=driver.find_element(By.XPATH, \"//img\").get_attribute(\"src\") \n",
    "    desc=driver.find_element(By.XPATH, \"//img\").get_attribute(\"alt\")\n",
    "    user=driver.find_element(By.XPATH, '//a[@data-test-id=\"creator-profile-link\"]/div/div/div').text\n",
    "    q.put([image,text,desc,user])\n",
    "    details[image]=[user,text,desc]\n",
    "    driver.quit()\n",
    "    "
   ]
  },
  {
   "cell_type": "code",
   "execution_count": 39,
   "id": "32bff59b",
   "metadata": {},
   "outputs": [],
   "source": [
    "answer=input(\"Do you want anything in the search or do you want the explore page? (Yes or No) \")\n",
    "if(answer==\"Yes\"):\n",
    "    x=input(\"What should I search? \")\n",
    "    bar=driver.find_element(By.XPATH, \"//input\")\n",
    "    bar.send_keys(x)\n",
    "    bar.send_keys(Keys.RETURN)"
   ]
  },
  {
   "cell_type": "code",
   "execution_count": 40,
   "id": "38358c7a-29a4-4d36-aebf-d5b9c5d77fe6",
   "metadata": {},
   "outputs": [],
   "source": [
    "current_scroll_position =0"
   ]
  },
  {
   "cell_type": "code",
   "execution_count": 41,
   "id": "cfcb4a8c",
   "metadata": {},
   "outputs": [
    {
     "name": "stdout",
     "output_type": "stream",
     "text": [
      "No new content loaded, breaking out.\n",
      "Collected links: ['https://www.pinterest.com/pin/300052393937727225/', 'https://www.pinterest.com/pin/939070959795692652/', 'https://www.pinterest.com/pin/537828380509349430/', 'https://www.pinterest.com/pin/15833036183466577/', 'https://www.pinterest.com/pin/6473993209565780/', 'https://www.pinterest.com/pin/756464068692957689/', 'https://www.pinterest.com/pin/662169951475140699/', 'https://www.pinterest.com/pin/978336719046763914/']\n"
     ]
    }
   ],
   "source": [
    "try:\n",
    "    while True:\n",
    "        # Scroll down the page\n",
    "        driver.execute_script(f\"window.scrollTo(0, {current_scroll_position + 1500});\")\n",
    "        current_scroll_position += 1500\n",
    "        \n",
    "        # Wait for a few seconds to allow new content to load\n",
    "        sleep(5)\n",
    "        \n",
    "        # Find elements\n",
    "        elements = driver.find_elements(By.CSS_SELECTOR, \".Yl-.MIw.Hb7\")\n",
    "        if not elements:\n",
    "            try:\n",
    "                driver.find_elements(By.XPATH, '//div[@role=\"listitem\"]')\n",
    "            except:\n",
    "                print(\"No more elements found.\")\n",
    "            break\n",
    "\n",
    "        new_links_found = False\n",
    "        for element in elements:\n",
    "            try:\n",
    "                a_tag = element.find_element(By.TAG_NAME, \"a\")\n",
    "                href = a_tag.get_attribute(\"href\")\n",
    "                if href not in feed:\n",
    "                    feed.append(href)\n",
    "                    new_links_found = True\n",
    "            except Exception as e:\n",
    "                print(f\"Error extracting link: {e}\")\n",
    "\n",
    "        # Check if no new content was loaded\n",
    "        if not new_links_found:\n",
    "            print(\"No new content loaded, breaking out.\")\n",
    "            break\n",
    "\n",
    "finally:\n",
    "    driver.quit()\n",
    "\n",
    "print(\"Collected links:\", feed)"
   ]
  },
  {
   "cell_type": "code",
   "execution_count": 42,
   "id": "6a92aad9-b8fa-40e3-83fe-50566b3b5629",
   "metadata": {},
   "outputs": [],
   "source": [
    "driver.quit()"
   ]
  },
  {
   "cell_type": "code",
   "execution_count": 43,
   "id": "9d25580e-b9d4-45c0-af73-1836fae29150",
   "metadata": {},
   "outputs": [],
   "source": [
    "from concurrent.futures import ThreadPoolExecutor\n",
    "\n",
    "with ThreadPoolExecutor() as exe:\n",
    "        exe.map(lambda a: getCapAndImage(a, q), feed)"
   ]
  },
  {
   "cell_type": "code",
   "execution_count": 44,
   "id": "fdf010c3",
   "metadata": {},
   "outputs": [],
   "source": [
    "import pandas as pd\n",
    "import numpy as np"
   ]
  },
  {
   "cell_type": "code",
   "execution_count": 45,
   "id": "c8b41c9f",
   "metadata": {},
   "outputs": [],
   "source": [
    "ls=[]"
   ]
  },
  {
   "cell_type": "code",
   "execution_count": 46,
   "id": "0ee852b6",
   "metadata": {},
   "outputs": [],
   "source": [
    "while not q.empty():\n",
    "    x=q.get()\n",
    "    ls.append(x)"
   ]
  },
  {
   "cell_type": "code",
   "execution_count": 47,
   "id": "5e9e5c4b",
   "metadata": {},
   "outputs": [],
   "source": [
    "all=np.array(ls)"
   ]
  },
  {
   "cell_type": "code",
   "execution_count": 48,
   "id": "c19f5634",
   "metadata": {},
   "outputs": [
    {
     "ename": "ValueError",
     "evalue": "Shape of passed values is (0, 1), indices imply (0, 4)",
     "output_type": "error",
     "traceback": [
      "\u001b[1;31m---------------------------------------------------------------------------\u001b[0m",
      "\u001b[1;31mValueError\u001b[0m                                Traceback (most recent call last)",
      "Cell \u001b[1;32mIn[48], line 3\u001b[0m\n\u001b[0;32m      1\u001b[0m columns \u001b[38;5;241m=\u001b[39m [\u001b[38;5;124m'\u001b[39m\u001b[38;5;124mImage\u001b[39m\u001b[38;5;124m'\u001b[39m, \u001b[38;5;124m'\u001b[39m\u001b[38;5;124mCaption\u001b[39m\u001b[38;5;124m'\u001b[39m, \u001b[38;5;124m'\u001b[39m\u001b[38;5;124mDescription\u001b[39m\u001b[38;5;124m'\u001b[39m,\u001b[38;5;124m'\u001b[39m\u001b[38;5;124mUser\u001b[39m\u001b[38;5;124m'\u001b[39m]\n\u001b[1;32m----> 3\u001b[0m pinterest\u001b[38;5;241m=\u001b[39m\u001b[43mpd\u001b[49m\u001b[38;5;241;43m.\u001b[39;49m\u001b[43mDataFrame\u001b[49m\u001b[43m(\u001b[49m\u001b[38;5;28;43mall\u001b[39;49m\u001b[43m,\u001b[49m\u001b[43mcolumns\u001b[49m\u001b[38;5;241;43m=\u001b[39;49m\u001b[43mcolumns\u001b[49m\u001b[43m)\u001b[49m\n",
      "File \u001b[1;32mc:\\Users\\rdaye\\AppData\\Local\\Programs\\Python\\Python312\\Lib\\site-packages\\pandas\\core\\frame.py:827\u001b[0m, in \u001b[0;36mDataFrame.__init__\u001b[1;34m(self, data, index, columns, dtype, copy)\u001b[0m\n\u001b[0;32m    816\u001b[0m         mgr \u001b[38;5;241m=\u001b[39m dict_to_mgr(\n\u001b[0;32m    817\u001b[0m             \u001b[38;5;66;03m# error: Item \"ndarray\" of \"Union[ndarray, Series, Index]\" has no\u001b[39;00m\n\u001b[0;32m    818\u001b[0m             \u001b[38;5;66;03m# attribute \"name\"\u001b[39;00m\n\u001b[1;32m   (...)\u001b[0m\n\u001b[0;32m    824\u001b[0m             copy\u001b[38;5;241m=\u001b[39m_copy,\n\u001b[0;32m    825\u001b[0m         )\n\u001b[0;32m    826\u001b[0m     \u001b[38;5;28;01melse\u001b[39;00m:\n\u001b[1;32m--> 827\u001b[0m         mgr \u001b[38;5;241m=\u001b[39m \u001b[43mndarray_to_mgr\u001b[49m\u001b[43m(\u001b[49m\n\u001b[0;32m    828\u001b[0m \u001b[43m            \u001b[49m\u001b[43mdata\u001b[49m\u001b[43m,\u001b[49m\n\u001b[0;32m    829\u001b[0m \u001b[43m            \u001b[49m\u001b[43mindex\u001b[49m\u001b[43m,\u001b[49m\n\u001b[0;32m    830\u001b[0m \u001b[43m            \u001b[49m\u001b[43mcolumns\u001b[49m\u001b[43m,\u001b[49m\n\u001b[0;32m    831\u001b[0m \u001b[43m            \u001b[49m\u001b[43mdtype\u001b[49m\u001b[38;5;241;43m=\u001b[39;49m\u001b[43mdtype\u001b[49m\u001b[43m,\u001b[49m\n\u001b[0;32m    832\u001b[0m \u001b[43m            \u001b[49m\u001b[43mcopy\u001b[49m\u001b[38;5;241;43m=\u001b[39;49m\u001b[43mcopy\u001b[49m\u001b[43m,\u001b[49m\n\u001b[0;32m    833\u001b[0m \u001b[43m            \u001b[49m\u001b[43mtyp\u001b[49m\u001b[38;5;241;43m=\u001b[39;49m\u001b[43mmanager\u001b[49m\u001b[43m,\u001b[49m\n\u001b[0;32m    834\u001b[0m \u001b[43m        \u001b[49m\u001b[43m)\u001b[49m\n\u001b[0;32m    836\u001b[0m \u001b[38;5;66;03m# For data is list-like, or Iterable (will consume into list)\u001b[39;00m\n\u001b[0;32m    837\u001b[0m \u001b[38;5;28;01melif\u001b[39;00m is_list_like(data):\n",
      "File \u001b[1;32mc:\\Users\\rdaye\\AppData\\Local\\Programs\\Python\\Python312\\Lib\\site-packages\\pandas\\core\\internals\\construction.py:336\u001b[0m, in \u001b[0;36mndarray_to_mgr\u001b[1;34m(values, index, columns, dtype, copy, typ)\u001b[0m\n\u001b[0;32m    331\u001b[0m \u001b[38;5;66;03m# _prep_ndarraylike ensures that values.ndim == 2 at this point\u001b[39;00m\n\u001b[0;32m    332\u001b[0m index, columns \u001b[38;5;241m=\u001b[39m _get_axes(\n\u001b[0;32m    333\u001b[0m     values\u001b[38;5;241m.\u001b[39mshape[\u001b[38;5;241m0\u001b[39m], values\u001b[38;5;241m.\u001b[39mshape[\u001b[38;5;241m1\u001b[39m], index\u001b[38;5;241m=\u001b[39mindex, columns\u001b[38;5;241m=\u001b[39mcolumns\n\u001b[0;32m    334\u001b[0m )\n\u001b[1;32m--> 336\u001b[0m \u001b[43m_check_values_indices_shape_match\u001b[49m\u001b[43m(\u001b[49m\u001b[43mvalues\u001b[49m\u001b[43m,\u001b[49m\u001b[43m \u001b[49m\u001b[43mindex\u001b[49m\u001b[43m,\u001b[49m\u001b[43m \u001b[49m\u001b[43mcolumns\u001b[49m\u001b[43m)\u001b[49m\n\u001b[0;32m    338\u001b[0m \u001b[38;5;28;01mif\u001b[39;00m typ \u001b[38;5;241m==\u001b[39m \u001b[38;5;124m\"\u001b[39m\u001b[38;5;124marray\u001b[39m\u001b[38;5;124m\"\u001b[39m:\n\u001b[0;32m    339\u001b[0m     \u001b[38;5;28;01mif\u001b[39;00m \u001b[38;5;28missubclass\u001b[39m(values\u001b[38;5;241m.\u001b[39mdtype\u001b[38;5;241m.\u001b[39mtype, \u001b[38;5;28mstr\u001b[39m):\n",
      "File \u001b[1;32mc:\\Users\\rdaye\\AppData\\Local\\Programs\\Python\\Python312\\Lib\\site-packages\\pandas\\core\\internals\\construction.py:420\u001b[0m, in \u001b[0;36m_check_values_indices_shape_match\u001b[1;34m(values, index, columns)\u001b[0m\n\u001b[0;32m    418\u001b[0m passed \u001b[38;5;241m=\u001b[39m values\u001b[38;5;241m.\u001b[39mshape\n\u001b[0;32m    419\u001b[0m implied \u001b[38;5;241m=\u001b[39m (\u001b[38;5;28mlen\u001b[39m(index), \u001b[38;5;28mlen\u001b[39m(columns))\n\u001b[1;32m--> 420\u001b[0m \u001b[38;5;28;01mraise\u001b[39;00m \u001b[38;5;167;01mValueError\u001b[39;00m(\u001b[38;5;124mf\u001b[39m\u001b[38;5;124m\"\u001b[39m\u001b[38;5;124mShape of passed values is \u001b[39m\u001b[38;5;132;01m{\u001b[39;00mpassed\u001b[38;5;132;01m}\u001b[39;00m\u001b[38;5;124m, indices imply \u001b[39m\u001b[38;5;132;01m{\u001b[39;00mimplied\u001b[38;5;132;01m}\u001b[39;00m\u001b[38;5;124m\"\u001b[39m)\n",
      "\u001b[1;31mValueError\u001b[0m: Shape of passed values is (0, 1), indices imply (0, 4)"
     ]
    }
   ],
   "source": [
    "columns = ['Image', 'Caption', 'Description','User']\n",
    "\n",
    "pinterest=pd.DataFrame(all,columns=columns)"
   ]
  },
  {
   "cell_type": "code",
   "execution_count": 25,
   "id": "e2ffa062",
   "metadata": {},
   "outputs": [
    {
     "data": {
      "text/html": [
       "<div>\n",
       "<style scoped>\n",
       "    .dataframe tbody tr th:only-of-type {\n",
       "        vertical-align: middle;\n",
       "    }\n",
       "\n",
       "    .dataframe tbody tr th {\n",
       "        vertical-align: top;\n",
       "    }\n",
       "\n",
       "    .dataframe thead th {\n",
       "        text-align: right;\n",
       "    }\n",
       "</style>\n",
       "<table border=\"1\" class=\"dataframe\">\n",
       "  <thead>\n",
       "    <tr style=\"text-align: right;\">\n",
       "      <th></th>\n",
       "      <th>Image</th>\n",
       "      <th>Caption</th>\n",
       "      <th>Description</th>\n",
       "      <th>User</th>\n",
       "    </tr>\n",
       "  </thead>\n",
       "  <tbody>\n",
       "    <tr>\n",
       "      <th>0</th>\n",
       "      <td>https://i.pinimg.com/30x30_RS/78/20/5c/78205cb...</td>\n",
       "      <td>Homemade Cinnamon &amp; Churros Ice Cream: Spice a...</td>\n",
       "      <td>FrostedFusions avatar link</td>\n",
       "      <td>FrostedFusions</td>\n",
       "    </tr>\n",
       "    <tr>\n",
       "      <th>1</th>\n",
       "      <td>https://i.pinimg.com/30x30_RS/c6/00/7b/c6007bc...</td>\n",
       "      <td>Homemade Choco Tacos</td>\n",
       "      <td>Crowded Kitchen avatar link</td>\n",
       "      <td>Crowded Kitchen</td>\n",
       "    </tr>\n",
       "    <tr>\n",
       "      <th>2</th>\n",
       "      <td>https://i.pinimg.com/236x/32/dc/f5/32dcf59affb...</td>\n",
       "      <td>Chocolate Orange Ice Cream</td>\n",
       "      <td>chocolate orange ice cream in a can with text ...</td>\n",
       "      <td>From The Larder | Gluten-Free Recipes</td>\n",
       "    </tr>\n",
       "  </tbody>\n",
       "</table>\n",
       "</div>"
      ],
      "text/plain": [
       "                                               Image  \\\n",
       "0  https://i.pinimg.com/30x30_RS/78/20/5c/78205cb...   \n",
       "1  https://i.pinimg.com/30x30_RS/c6/00/7b/c6007bc...   \n",
       "2  https://i.pinimg.com/236x/32/dc/f5/32dcf59affb...   \n",
       "\n",
       "                                             Caption  \\\n",
       "0  Homemade Cinnamon & Churros Ice Cream: Spice a...   \n",
       "1                               Homemade Choco Tacos   \n",
       "2                         Chocolate Orange Ice Cream   \n",
       "\n",
       "                                         Description  \\\n",
       "0                         FrostedFusions avatar link   \n",
       "1                        Crowded Kitchen avatar link   \n",
       "2  chocolate orange ice cream in a can with text ...   \n",
       "\n",
       "                                    User  \n",
       "0                         FrostedFusions  \n",
       "1                        Crowded Kitchen  \n",
       "2  From The Larder | Gluten-Free Recipes  "
      ]
     },
     "execution_count": 25,
     "metadata": {},
     "output_type": "execute_result"
    }
   ],
   "source": [
    "pinterest"
   ]
  },
  {
   "cell_type": "code",
   "execution_count": 26,
   "id": "3967ddc8",
   "metadata": {},
   "outputs": [],
   "source": [
    "file=input(\"name of the file to save into\")"
   ]
  },
  {
   "cell_type": "code",
   "execution_count": 27,
   "id": "2be434f2",
   "metadata": {},
   "outputs": [],
   "source": [
    "pinterest.to_csv(file+\".csv\", index=False)"
   ]
  },
  {
   "cell_type": "code",
   "execution_count": null,
   "id": "de2f0e34",
   "metadata": {},
   "outputs": [],
   "source": []
  }
 ],
 "metadata": {
  "kernelspec": {
   "display_name": "Python 3",
   "language": "python",
   "name": "python3"
  },
  "language_info": {
   "codemirror_mode": {
    "name": "ipython",
    "version": 3
   },
   "file_extension": ".py",
   "mimetype": "text/x-python",
   "name": "python",
   "nbconvert_exporter": "python",
   "pygments_lexer": "ipython3",
   "version": "3.12.7"
  }
 },
 "nbformat": 4,
 "nbformat_minor": 5
}
