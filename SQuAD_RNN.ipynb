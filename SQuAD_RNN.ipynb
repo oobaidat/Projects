{
  "cells": [
    {
      "cell_type": "markdown",
      "metadata": {
        "id": "gExJ3GILm5sb"
      },
      "source": [
        "# Libraries"
      ]
    },
    {
      "cell_type": "code",
      "execution_count": null,
      "metadata": {
        "colab": {
          "base_uri": "https://localhost:8080/"
        },
        "id": "U5pEBIcxGU8u",
        "outputId": "ec4c21ec-1d03-4e12-e72f-16a430c88328"
      },
      "outputs": [
        {
          "output_type": "stream",
          "name": "stdout",
          "text": [
            "Collecting datasets\n",
            "  Downloading datasets-2.19.1-py3-none-any.whl (542 kB)\n",
            "\u001b[2K     \u001b[90m━━━━━━━━━━━━━━━━━━━━━━━━━━━━━━━━━━━━━━━━\u001b[0m \u001b[32m542.0/542.0 kB\u001b[0m \u001b[31m5.0 MB/s\u001b[0m eta \u001b[36m0:00:00\u001b[0m\n",
            "\u001b[?25hRequirement already satisfied: filelock in /usr/local/lib/python3.10/dist-packages (from datasets) (3.14.0)\n",
            "Requirement already satisfied: numpy>=1.17 in /usr/local/lib/python3.10/dist-packages (from datasets) (1.25.2)\n",
            "Requirement already satisfied: pyarrow>=12.0.0 in /usr/local/lib/python3.10/dist-packages (from datasets) (14.0.2)\n",
            "Requirement already satisfied: pyarrow-hotfix in /usr/local/lib/python3.10/dist-packages (from datasets) (0.6)\n",
            "Collecting dill<0.3.9,>=0.3.0 (from datasets)\n",
            "  Downloading dill-0.3.8-py3-none-any.whl (116 kB)\n",
            "\u001b[2K     \u001b[90m━━━━━━━━━━━━━━━━━━━━━━━━━━━━━━━━━━━━━━━━\u001b[0m \u001b[32m116.3/116.3 kB\u001b[0m \u001b[31m6.2 MB/s\u001b[0m eta \u001b[36m0:00:00\u001b[0m\n",
            "\u001b[?25hRequirement already satisfied: pandas in /usr/local/lib/python3.10/dist-packages (from datasets) (2.0.3)\n",
            "Requirement already satisfied: requests>=2.19.0 in /usr/local/lib/python3.10/dist-packages (from datasets) (2.31.0)\n",
            "Requirement already satisfied: tqdm>=4.62.1 in /usr/local/lib/python3.10/dist-packages (from datasets) (4.66.4)\n",
            "Collecting xxhash (from datasets)\n",
            "  Downloading xxhash-3.4.1-cp310-cp310-manylinux_2_17_x86_64.manylinux2014_x86_64.whl (194 kB)\n",
            "\u001b[2K     \u001b[90m━━━━━━━━━━━━━━━━━━━━━━━━━━━━━━━━━━━━━━━━\u001b[0m \u001b[32m194.1/194.1 kB\u001b[0m \u001b[31m4.0 MB/s\u001b[0m eta \u001b[36m0:00:00\u001b[0m\n",
            "\u001b[?25hCollecting multiprocess (from datasets)\n",
            "  Downloading multiprocess-0.70.16-py310-none-any.whl (134 kB)\n",
            "\u001b[2K     \u001b[90m━━━━━━━━━━━━━━━━━━━━━━━━━━━━━━━━━━━━━━━━\u001b[0m \u001b[32m134.8/134.8 kB\u001b[0m \u001b[31m7.1 MB/s\u001b[0m eta \u001b[36m0:00:00\u001b[0m\n",
            "\u001b[?25hRequirement already satisfied: fsspec[http]<=2024.3.1,>=2023.1.0 in /usr/local/lib/python3.10/dist-packages (from datasets) (2023.6.0)\n",
            "Requirement already satisfied: aiohttp in /usr/local/lib/python3.10/dist-packages (from datasets) (3.9.5)\n",
            "Requirement already satisfied: huggingface-hub>=0.21.2 in /usr/local/lib/python3.10/dist-packages (from datasets) (0.23.1)\n",
            "Requirement already satisfied: packaging in /usr/local/lib/python3.10/dist-packages (from datasets) (24.0)\n",
            "Requirement already satisfied: pyyaml>=5.1 in /usr/local/lib/python3.10/dist-packages (from datasets) (6.0.1)\n",
            "Requirement already satisfied: aiosignal>=1.1.2 in /usr/local/lib/python3.10/dist-packages (from aiohttp->datasets) (1.3.1)\n",
            "Requirement already satisfied: attrs>=17.3.0 in /usr/local/lib/python3.10/dist-packages (from aiohttp->datasets) (23.2.0)\n",
            "Requirement already satisfied: frozenlist>=1.1.1 in /usr/local/lib/python3.10/dist-packages (from aiohttp->datasets) (1.4.1)\n",
            "Requirement already satisfied: multidict<7.0,>=4.5 in /usr/local/lib/python3.10/dist-packages (from aiohttp->datasets) (6.0.5)\n",
            "Requirement already satisfied: yarl<2.0,>=1.0 in /usr/local/lib/python3.10/dist-packages (from aiohttp->datasets) (1.9.4)\n",
            "Requirement already satisfied: async-timeout<5.0,>=4.0 in /usr/local/lib/python3.10/dist-packages (from aiohttp->datasets) (4.0.3)\n",
            "Requirement already satisfied: typing-extensions>=3.7.4.3 in /usr/local/lib/python3.10/dist-packages (from huggingface-hub>=0.21.2->datasets) (4.11.0)\n",
            "Requirement already satisfied: charset-normalizer<4,>=2 in /usr/local/lib/python3.10/dist-packages (from requests>=2.19.0->datasets) (3.3.2)\n",
            "Requirement already satisfied: idna<4,>=2.5 in /usr/local/lib/python3.10/dist-packages (from requests>=2.19.0->datasets) (3.7)\n",
            "Requirement already satisfied: urllib3<3,>=1.21.1 in /usr/local/lib/python3.10/dist-packages (from requests>=2.19.0->datasets) (2.0.7)\n",
            "Requirement already satisfied: certifi>=2017.4.17 in /usr/local/lib/python3.10/dist-packages (from requests>=2.19.0->datasets) (2024.2.2)\n",
            "Requirement already satisfied: python-dateutil>=2.8.2 in /usr/local/lib/python3.10/dist-packages (from pandas->datasets) (2.8.2)\n",
            "Requirement already satisfied: pytz>=2020.1 in /usr/local/lib/python3.10/dist-packages (from pandas->datasets) (2023.4)\n",
            "Requirement already satisfied: tzdata>=2022.1 in /usr/local/lib/python3.10/dist-packages (from pandas->datasets) (2024.1)\n",
            "Requirement already satisfied: six>=1.5 in /usr/local/lib/python3.10/dist-packages (from python-dateutil>=2.8.2->pandas->datasets) (1.16.0)\n",
            "Installing collected packages: xxhash, dill, multiprocess, datasets\n",
            "Successfully installed datasets-2.19.1 dill-0.3.8 multiprocess-0.70.16 xxhash-3.4.1\n"
          ]
        }
      ],
      "source": [
        "!pip install datasets\n",
        "from datasets import load_dataset\n",
        "\n",
        "import pandas as pd\n",
        "import numpy as np\n",
        "import statistics\n",
        "\n",
        "from keras.preprocessing.text import Tokenizer\n",
        "from keras.utils import pad_sequences, to_categorical\n",
        "from scipy.sparse import lil_matrix\n",
        "\n",
        "from keras.layers import Dense, LSTM, Embedding, TimeDistributed, Bidirectional, Concatenate, Attention\n",
        "from keras import Input, Model\n",
        "from keras.callbacks import EarlyStopping\n",
        "from keras.optimizers import RMSprop, Adam"
      ]
    },
    {
      "cell_type": "markdown",
      "metadata": {
        "id": "_P2XxpgKm5sl"
      },
      "source": [
        "# Load Data"
      ]
    },
    {
      "cell_type": "code",
      "execution_count": null,
      "metadata": {
        "colab": {
          "base_uri": "https://localhost:8080/",
          "height": 301,
          "referenced_widgets": [
            "8c2593768e7141b3ab19290cf9b468ab",
            "7d2ec2fd56de4f2db496082bd01e403b",
            "6f71b592b48346808c13c1d0c826476e",
            "f5ad0519974f4833a04d5c212711f1f8",
            "241abee208654b48baefa7d316a472f8",
            "1b7831203fdb4d65b83b623b7040c507",
            "47219b798f2d47a2916ddc4b4caad96f",
            "f4d4892fd9ab48fb81dc21ab744119e9",
            "490d1c97b25f4e1895f04d5d11b287bf",
            "befb54965a0d409da43fe053c4e2d261",
            "603b6d827b964939b05b84366c22ea57",
            "e2d6fb8adc004956b21388c156ffd868",
            "b703453f310640dba7e494863f1c995f",
            "e186833f88574b2ba4c23c7cab95dbb3",
            "8c1cef2a0b8342c7bafda8fd4df11ea2",
            "d2aad770d35449e3afc94d2b461f5df2",
            "2dd74a850a144ab388d03e56ef705014",
            "47b1b7c285e84ff6a097a1b55c71f9b6",
            "3b27c847ac2c4d9c85febfec7e547b7a",
            "d2015362a27c49269421a3416523c6e0",
            "dcbaddee25cc41bf9ac2a6c168f6007e",
            "ea13705fb7204a5498c0bc3c830a608f",
            "a2e0f2886e214d219453918e95e4a20c",
            "5f10d53b284541569ef50311bbfbfd56",
            "2aaa65caa5294173b371d717319b6d29",
            "3ed685117a9944c382b0ac250c71a3cb",
            "47d41b772dcb48b9bd00ca0ce8eef7fa",
            "c628b53701e54cab85a20bd03e402389",
            "ddd1e266a06b400a88ab9611cf7820bc",
            "1a72d5db9c2946e3ac8bbbd874d53020",
            "e940daceb08644b59a19c562bdc6283f",
            "62347cdc88674aecaf4d0b58cfe60d30",
            "62ddc6cde7a74602a22b6337f5e9f505",
            "94e3b7eabb3341809bc7fa60bdb150ae",
            "64b7f9ecf29f4b748a296a3619f29ec8",
            "633502c80cd24b6e851c08ded5af97ad",
            "5b6f252d569c47d4b5c073ce7bcce1fa",
            "a949a39f5d58480390fe2b5e52d3815c",
            "21268b8e86c243849a2d751616e87824",
            "0635d9a0ef0541db92c4096dd27f872b",
            "146e7911b2ea4401b16ec074e5af1d75",
            "b4b9326de6134ad09b3c69b86069af3c",
            "516804709e4a426da0433a3c6f470266",
            "1bf5990e5a764496b5966114a1e5eaa4",
            "798b0828415d4c7f974043e67ae31a29",
            "0b1724fe46e743fc918e4ad53ba79e25",
            "63b596c3c589464c84379dbec6d7595f",
            "8babf721cfed430a8076ce47ebe8aca6",
            "4828db4a46a743cd9dc9f64cd74ceba9",
            "ad3c0e985185430fa96eae4718070a31",
            "d4e6051c19854bb0825367277548b235",
            "a99c910b48a34a15a69c6475314e7cb9",
            "bf54e754c2794c62b1e9dd4bd655a3f8",
            "4c14cf0937d94c2fbc7f8cf033dda30c",
            "f0277bf902de40fd857df8eed1408681"
          ]
        },
        "id": "mcfNfQluGU8v",
        "outputId": "25384c93-36d6-4dac-d4f7-9079c886a3de"
      },
      "outputs": [
        {
          "output_type": "stream",
          "name": "stderr",
          "text": [
            "/usr/local/lib/python3.10/dist-packages/huggingface_hub/utils/_token.py:89: UserWarning: \n",
            "The secret `HF_TOKEN` does not exist in your Colab secrets.\n",
            "To authenticate with the Hugging Face Hub, create a token in your settings tab (https://huggingface.co/settings/tokens), set it as secret in your Google Colab and restart your session.\n",
            "You will be able to reuse this secret in all of your notebooks.\n",
            "Please note that authentication is recommended but still optional to access public models or datasets.\n",
            "  warnings.warn(\n"
          ]
        },
        {
          "output_type": "display_data",
          "data": {
            "text/plain": [
              "Downloading readme:   0%|          | 0.00/7.62k [00:00<?, ?B/s]"
            ],
            "application/vnd.jupyter.widget-view+json": {
              "version_major": 2,
              "version_minor": 0,
              "model_id": "8c2593768e7141b3ab19290cf9b468ab"
            }
          },
          "metadata": {}
        },
        {
          "output_type": "display_data",
          "data": {
            "text/plain": [
              "Downloading data:   0%|          | 0.00/14.5M [00:00<?, ?B/s]"
            ],
            "application/vnd.jupyter.widget-view+json": {
              "version_major": 2,
              "version_minor": 0,
              "model_id": "e2d6fb8adc004956b21388c156ffd868"
            }
          },
          "metadata": {}
        },
        {
          "output_type": "display_data",
          "data": {
            "text/plain": [
              "Downloading data:   0%|          | 0.00/1.82M [00:00<?, ?B/s]"
            ],
            "application/vnd.jupyter.widget-view+json": {
              "version_major": 2,
              "version_minor": 0,
              "model_id": "a2e0f2886e214d219453918e95e4a20c"
            }
          },
          "metadata": {}
        },
        {
          "output_type": "display_data",
          "data": {
            "text/plain": [
              "Generating train split:   0%|          | 0/87599 [00:00<?, ? examples/s]"
            ],
            "application/vnd.jupyter.widget-view+json": {
              "version_major": 2,
              "version_minor": 0,
              "model_id": "94e3b7eabb3341809bc7fa60bdb150ae"
            }
          },
          "metadata": {}
        },
        {
          "output_type": "display_data",
          "data": {
            "text/plain": [
              "Generating validation split:   0%|          | 0/10570 [00:00<?, ? examples/s]"
            ],
            "application/vnd.jupyter.widget-view+json": {
              "version_major": 2,
              "version_minor": 0,
              "model_id": "798b0828415d4c7f974043e67ae31a29"
            }
          },
          "metadata": {}
        }
      ],
      "source": [
        "# train_data = pd.read_parquet('C:/Users/USER/Desktop/Omar/train-00000-of-00001.parquet', engine = 'pyarrow')\n",
        "# test_data = pd.read_parquet('C:/Users/USER/Desktop/Omar/validation-00000-of-00001.parquet', engine = 'pyarrow')\n",
        "datasets = load_dataset(\"squad\")"
      ]
    },
    {
      "cell_type": "code",
      "execution_count": null,
      "metadata": {
        "id": "BMt6y253GU8v"
      },
      "outputs": [],
      "source": [
        "# train_data = train_data.drop(columns=['id', 'title', 'context'])\n",
        "# test_data = test_data.drop(columns=['id', 'title', 'context'])\n",
        "train_data = datasets['train']\n",
        "test_data = datasets['validation']"
      ]
    },
    {
      "cell_type": "markdown",
      "metadata": {
        "id": "VMmA9Nfsm5sn"
      },
      "source": [
        "# Input/Output"
      ]
    },
    {
      "cell_type": "code",
      "execution_count": null,
      "metadata": {
        "id": "fip8IbdBGU8v"
      },
      "outputs": [],
      "source": [
        "# [:-1] to remove the ?\n",
        "x_train = np.array(['<bos> '+question[:-1]+' <eos>' for question in train_data['question'][:8000]])\n",
        "# not sure how to handle the multiple answers in test dataset so we only took the first answer\n",
        "y_train = np.array([answer['text'][0] for answer in train_data['answers'][:8000]])\n",
        "\n",
        "x_test = np.array(['<bos> '+question[:-1]+' <eos>' for question in test_data['question'][:2000]])\n",
        "y_test = np.array([answer['text'][0] for answer in test_data['answers'][:2000]])\n",
        "\n",
        "# max length results are very bad, we will use 90% instead\n",
        "length_x = int(statistics.quantiles([len(sent.split()) for sent in x_train], n=20)[17])\n",
        "length_y = int(statistics.quantiles([len(sent.split()) for sent in y_train], n=20)[17])\n",
        "\n",
        "# length_x = max(len(sent.split()) for sent in x_train)\n",
        "# length_y = max(len(sent.split()) for sent in y_train)"
      ]
    },
    {
      "cell_type": "markdown",
      "metadata": {
        "id": "OgBsMZwgm5so"
      },
      "source": [
        "# Tokenization/Padding"
      ]
    },
    {
      "cell_type": "code",
      "execution_count": null,
      "metadata": {
        "id": "o3wwnHUVGU8v",
        "colab": {
          "base_uri": "https://localhost:8080/"
        },
        "outputId": "a8d96d37-876d-4e17-9a91-fbbc55aa1eff"
      },
      "outputs": [
        {
          "output_type": "stream",
          "name": "stdout",
          "text": [
            "size of vocab is 11462\n"
          ]
        }
      ],
      "source": [
        "tok = Tokenizer(oov_token='<oov>')\n",
        "tok.fit_on_texts(np.concatenate((x_train, y_train), axis=0))\n",
        "train_seq_x = tok.texts_to_sequences(x_train)\n",
        "test_seq_x = tok.texts_to_sequences(x_test)\n",
        "train_seq_y = tok.texts_to_sequences(y_train)\n",
        "test_seq_y = tok.texts_to_sequences(y_test)\n",
        "print (f'size of vocab is {len(tok.word_index)}')"
      ]
    },
    {
      "cell_type": "code",
      "execution_count": null,
      "metadata": {
        "id": "nBgYsLixGU8w"
      },
      "outputs": [],
      "source": [
        "train_padded_x = pad_sequences(train_seq_x, maxlen=length_x, padding='post', truncating='post', dtype=\"float32\")\n",
        "test_padded_x = pad_sequences(test_seq_x, maxlen=length_x, padding='post', truncating='post', dtype=\"float32\")\n",
        "\n",
        "train_padded_y = pad_sequences(train_seq_y, maxlen=length_y, padding='post', truncating='post', dtype=\"float32\")\n",
        "test_padded_y = pad_sequences(test_seq_y, maxlen=length_y, padding='post', truncating='post', dtype=\"float32\")\n",
        "\n",
        "train_in = np.array([np.append(2, row) for row in train_padded_y], dtype=\"float32\")\n",
        "test_in = np.array([np.append(2, row) for row in test_padded_y], dtype=\"float32\")\n",
        "\n",
        "train_out = np.array([np.append(row, 3) for row in train_padded_y], dtype=\"float32\")\n",
        "test_out = np.array([np.append(row, 3) for row in test_padded_y], dtype=\"float32\")"
      ]
    },
    {
      "cell_type": "markdown",
      "metadata": {
        "id": "KaCKHtXQm5sq"
      },
      "source": [
        "# Index"
      ]
    },
    {
      "cell_type": "code",
      "execution_count": null,
      "metadata": {
        "id": "JAitrTt3N93z"
      },
      "outputs": [],
      "source": [
        "vocab = len(tok.word_index) + 1\n",
        "\n",
        "dictionary = tok.word_index\n",
        "\n",
        "idx2word = {}\n",
        "for k, v in dictionary.items():\n",
        "    idx2word[v] = k"
      ]
    },
    {
      "cell_type": "markdown",
      "metadata": {
        "id": "zgDhtKrFm5sr"
      },
      "source": [
        "# One-hot"
      ]
    },
    {
      "cell_type": "code",
      "execution_count": null,
      "metadata": {
        "id": "bTx18kdwm5sr"
      },
      "outputs": [],
      "source": [
        "sparse_train = lil_matrix((len(train_out), vocab))\n",
        "\n",
        "for row, sequence in enumerate(train_out):\n",
        "    one_hot = to_categorical(sequence, num_classes=vocab).sum(axis=0)\n",
        "    sparse_train[row] = one_hot\n",
        "\n",
        "sparse_test = lil_matrix((len(test_out), vocab))\n",
        "\n",
        "for row, sequence in enumerate(test_out):\n",
        "    one_hot = to_categorical(sequence, num_classes=vocab).sum(axis=0)\n",
        "    sparse_test[row] = one_hot"
      ]
    },
    {
      "cell_type": "code",
      "execution_count": null,
      "metadata": {
        "id": "c7cs7kL8m5ss"
      },
      "outputs": [],
      "source": [
        "one_hot_train = np.zeros((len(train_out),length_y+1,vocab), dtype=\"float32\")\n",
        "for row in range(0, len(train_out)):\n",
        "    word = 0\n",
        "    for col in sparse_train.rows[row]:\n",
        "        one_hot_train[row][word][col] = 1\n",
        "        word += 1\n",
        "\n",
        "one_hot_test = np.zeros((len(test_out),length_y+1,vocab), dtype=\"float32\")\n",
        "for row in range(0, len(test_out)):\n",
        "    word = 0\n",
        "    for col in sparse_train.rows[row]:\n",
        "        one_hot_test[row][word][col] = 1\n",
        "        word += 1"
      ]
    },
    {
      "cell_type": "markdown",
      "metadata": {
        "id": "IgKzRjImm5ss"
      },
      "source": [
        "# Model"
      ]
    },
    {
      "cell_type": "code",
      "execution_count": null,
      "metadata": {
        "colab": {
          "base_uri": "https://localhost:8080/"
        },
        "id": "AiqD50QDI574",
        "outputId": "935b8401-8603-40d5-86e3-9f5f2abb4a76"
      },
      "outputs": [
        {
          "output_type": "stream",
          "name": "stdout",
          "text": [
            "Model: \"model\"\n",
            "__________________________________________________________________________________________________\n",
            " Layer (type)                Output Shape                 Param #   Connected to                  \n",
            "==================================================================================================\n",
            " input_1 (InputLayer)        [(None, 17)]                 0         []                            \n",
            "                                                                                                  \n",
            " embedding (Embedding)       (None, 17, 32)               366816    ['input_1[0][0]']             \n",
            "                                                                                                  \n",
            " input_2 (InputLayer)        [(None, 6)]                  0         []                            \n",
            "                                                                                                  \n",
            " bidirectional (Bidirection  [(None, 256),                164864    ['embedding[0][0]']           \n",
            " al)                          (None, 128),                                                        \n",
            "                              (None, 128),                                                        \n",
            "                              (None, 128),                                                        \n",
            "                              (None, 128)]                                                        \n",
            "                                                                                                  \n",
            " embedding_1 (Embedding)     (None, 6, 32)                366816    ['input_2[0][0]']             \n",
            "                                                                                                  \n",
            " concatenate (Concatenate)   (None, 256)                  0         ['bidirectional[0][1]',       \n",
            "                                                                     'bidirectional[0][3]']       \n",
            "                                                                                                  \n",
            " concatenate_1 (Concatenate  (None, 256)                  0         ['bidirectional[0][2]',       \n",
            " )                                                                   'bidirectional[0][4]']       \n",
            "                                                                                                  \n",
            " lstm_1 (LSTM)               [(None, 6, 256),             295936    ['embedding_1[0][0]',         \n",
            "                              (None, 256),                           'concatenate[0][0]',         \n",
            "                              (None, 256)]                           'concatenate_1[0][0]']       \n",
            "                                                                                                  \n",
            " attention (Attention)       (None, 6, 256)               0         ['lstm_1[0][0]',              \n",
            "                                                                     'bidirectional[0][0]']       \n",
            "                                                                                                  \n",
            " concatenate_2 (Concatenate  (None, 6, 512)               0         ['lstm_1[0][0]',              \n",
            " )                                                                   'attention[0][0]']           \n",
            "                                                                                                  \n",
            " time_distributed (TimeDist  (None, 6, 11463)             5880519   ['concatenate_2[0][0]']       \n",
            " ributed)                                                                                         \n",
            "                                                                                                  \n",
            "==================================================================================================\n",
            "Total params: 7074951 (26.99 MB)\n",
            "Trainable params: 7074951 (26.99 MB)\n",
            "Non-trainable params: 0 (0.00 Byte)\n",
            "__________________________________________________________________________________________________\n"
          ]
        }
      ],
      "source": [
        "embd_size = 32\n",
        "unit_size = 128\n",
        "\n",
        "encoder_inputs = Input(shape=(length_x, ), dtype='float32',)\n",
        "encoder_embedding_layer = Embedding(input_dim=vocab, output_dim=embd_size, input_length=length_x, mask_zero=True)\n",
        "encoder_embedding = encoder_embedding_layer(encoder_inputs)\n",
        "encoder_LSTM = Bidirectional(LSTM(unit_size, return_state=True, dropout=0.5))\n",
        "encoder_outputs, state_hf, state_cf, state_hb, state_cb = encoder_LSTM(encoder_embedding)\n",
        "\n",
        "final_enc_h = Concatenate()([state_hf, state_hb])\n",
        "final_enc_c = Concatenate()([state_cf, state_cb])\n",
        "encoder_states = [final_enc_h, final_enc_c]\n",
        "\n",
        "decoder_inputs = Input(shape=(length_y+1, ), dtype='float32',)\n",
        "decoder_embedding_layer = Embedding(input_dim=vocab, output_dim=embd_size, input_length=length_y+1, mask_zero=True)\n",
        "decoder_embedding = decoder_embedding_layer(decoder_inputs)\n",
        "\n",
        "decoder_LSTM = LSTM(unit_size*2, return_state=True, return_sequences=True, dropout=0.35)\n",
        "decoder_outputs, _, _ = decoder_LSTM(decoder_embedding, initial_state=encoder_states)\n",
        "\n",
        "attention_layer = Attention()\n",
        "attention_result = attention_layer([decoder_outputs, encoder_outputs])\n",
        "decoder_concat_input = Concatenate(axis=-1)([decoder_outputs, attention_result])\n",
        "\n",
        "logit_layer = Dense(units=vocab, activation='softmax')\n",
        "# outputs = logit_layer(decoder_concat_input)\n",
        "outputs = TimeDistributed(logit_layer)(decoder_concat_input)\n",
        "model = Model([encoder_inputs, decoder_inputs], outputs)\n",
        "\n",
        "model.summary()"
      ]
    },
    {
      "cell_type": "code",
      "execution_count": null,
      "metadata": {
        "id": "UHa7izi8GU8y",
        "colab": {
          "base_uri": "https://localhost:8080/"
        },
        "outputId": "70ef4058-dd3b-40c5-ddc8-c38387438acf"
      },
      "outputs": [
        {
          "output_type": "stream",
          "name": "stdout",
          "text": [
            "Epoch 1/200\n",
            "250/250 [==============================] - 108s 393ms/step - loss: 3.8505 - accuracy: 0.5139 - val_loss: 2.6168 - val_accuracy: 0.5608\n",
            "Epoch 2/200\n",
            "250/250 [==============================] - 85s 340ms/step - loss: 3.3904 - accuracy: 0.5362 - val_loss: 2.5802 - val_accuracy: 0.5614\n",
            "Epoch 3/200\n",
            "250/250 [==============================] - 104s 417ms/step - loss: 3.3675 - accuracy: 0.5369 - val_loss: 2.5701 - val_accuracy: 0.5622\n",
            "Epoch 4/200\n",
            "250/250 [==============================] - 86s 345ms/step - loss: 3.3470 - accuracy: 0.5361 - val_loss: 2.5774 - val_accuracy: 0.5597\n",
            "Epoch 5/200\n",
            "250/250 [==============================] - 91s 364ms/step - loss: 3.3380 - accuracy: 0.5359 - val_loss: 2.5885 - val_accuracy: 0.5608\n",
            "Epoch 6/200\n",
            "250/250 [==============================] - 91s 365ms/step - loss: 3.3199 - accuracy: 0.5380 - val_loss: 2.5881 - val_accuracy: 0.5614\n",
            "Epoch 7/200\n",
            "250/250 [==============================] - 93s 373ms/step - loss: 3.2808 - accuracy: 0.5458 - val_loss: 2.6150 - val_accuracy: 0.5652\n",
            "Epoch 8/200\n",
            "250/250 [==============================] - 91s 363ms/step - loss: 3.2530 - accuracy: 0.5479 - val_loss: 2.6333 - val_accuracy: 0.5694\n"
          ]
        }
      ],
      "source": [
        "early_stopping = EarlyStopping(monitor='val_loss', patience=5, restore_best_weights=True)\n",
        "\n",
        "# optimizer = Adam(learning_rate = 0.002, clipvalue=1)\n",
        "optimizer = RMSprop(learning_rate = 0.001, clipvalue=1)\n",
        "model.compile(optimizer=optimizer, loss='categorical_crossentropy', metrics='accuracy')\n",
        "\n",
        "history = model.fit([train_padded_x, train_in], one_hot_train,\n",
        "                    batch_size=32,\n",
        "                    validation_data=([test_padded_x, test_in], one_hot_test),\n",
        "                    epochs=200,\n",
        "                    callbacks=[early_stopping])"
      ]
    },
    {
      "cell_type": "markdown",
      "metadata": {
        "id": "fAcPPNo4m5sv"
      },
      "source": [
        "# Testing Model"
      ]
    },
    {
      "cell_type": "code",
      "execution_count": null,
      "metadata": {
        "id": "JVqNq96Qm5sv",
        "colab": {
          "base_uri": "https://localhost:8080/"
        },
        "outputId": "0e624545-e798-4149-ee03-ac9b54a995f9"
      },
      "outputs": [
        {
          "output_type": "stream",
          "name": "stdout",
          "text": [
            "125/125 [==============================] - 24s 156ms/step\n"
          ]
        }
      ],
      "source": [
        "predictions = model.predict([train_padded_x, train_in], batch_size=64)\n",
        "\n",
        "predicted_indices = np.argmax(predictions, axis=-1)\n",
        "\n",
        "predicted_train = []\n",
        "for sample_indices in predicted_indices:\n",
        "    predicted_train.append([idx2word[idx+1] for idx in sample_indices])"
      ]
    },
    {
      "cell_type": "code",
      "execution_count": null,
      "metadata": {
        "id": "5LvfxaEDm5sw",
        "colab": {
          "base_uri": "https://localhost:8080/"
        },
        "outputId": "71319b82-f198-4485-c198-025b48d72fe6"
      },
      "outputs": [
        {
          "output_type": "stream",
          "name": "stdout",
          "text": [
            "All of his pieces include what instrument\n",
            "piano\n",
            "['<oov>', 'the', 'the', 'the', 'the', 'the']\n",
            "What is Mr. White dying of\n",
            "thallium poisoning.\n",
            "['<oov>', 'the', 'a', 'solar', 'solar', 'solar']\n",
            "What is the primary seminary of the Congregation of the Holy Cross\n",
            "Moreau Seminary\n",
            "['<oov>', 'the', 'a', 'solar', 'solar', 'solar']\n",
            "What related fields do linguistic anthropologists draw on\n",
            "sociolinguistics, pragmatics, cognitive linguistics, semiotics, discourse analysis, and narrative analysis\n",
            "['<oov>', 'the', 'a', 'music', 'island', 'island']\n",
            "What can happen when antibiotics are used with other drugs\n",
            "Additional side-effects\n",
            "['<oov>', 'the', 'a', 'music', 'video', 'video']\n"
          ]
        }
      ],
      "source": [
        "random_indexes = np.random.choice(len(train_padded_x), size=5, replace=False)\n",
        "for i in random_indexes:\n",
        "    print(x_train[i][6:-6])\n",
        "    print(y_train[i])\n",
        "    print(predicted_train[i])"
      ]
    },
    {
      "cell_type": "code",
      "execution_count": null,
      "metadata": {
        "id": "3HjYQ-Ox1Mgp",
        "colab": {
          "base_uri": "https://localhost:8080/"
        },
        "outputId": "d3936b09-cbf7-4703-ff8c-939e142f49ed"
      },
      "outputs": [
        {
          "output_type": "stream",
          "name": "stdout",
          "text": [
            "32/32 [==============================] - 8s 127ms/step\n"
          ]
        }
      ],
      "source": [
        "predictions = model.predict([test_padded_x, test_in], batch_size=64)\n",
        "\n",
        "predicted_indices = np.argmax(predictions, axis=-1)\n",
        "\n",
        "predicted_words = []\n",
        "for sample_indices in predicted_indices:\n",
        "    predicted_words.append([idx2word[idx+1] for idx in sample_indices])"
      ]
    },
    {
      "cell_type": "code",
      "execution_count": null,
      "metadata": {
        "id": "hsVUFzRgm5sx",
        "colab": {
          "base_uri": "https://localhost:8080/"
        },
        "outputId": "7ac0b9b9-1b53-47cd-c23a-7139fa0f09f2"
      },
      "outputs": [
        {
          "output_type": "stream",
          "name": "stdout",
          "text": [
            "What was Kenneth Swezey's job\n",
            "journalist\n",
            "['<oov>', 'the', 'the', 'the', 'the', 'the']\n",
            "What one word did the NFL commissioner use to describe what Super Bowl 50 was intended to be\n",
            "spectacular\n",
            "['<oov>', 'the', 'the', 'the', 'the', 'the']\n",
            "What city, raided by clans and dukes, preceded the founding of Warszowa\n",
            "Jazdów\n",
            "['<oov>', 'the', 'the', 'the', 'the', 'the']\n",
            "Who was Tesla's nephew\n",
            "Sava Kosanović\n",
            "['<oov>', 'the', 'a', 'solar', 'solar', 'solar']\n",
            "Why did the police bring Tesla back to Gospic\n",
            "for not having a residence permit.\n",
            "['<oov>', 'the', 'a', 'music', 'island', 'island']\n"
          ]
        }
      ],
      "source": [
        "random_indexes = np.random.choice(len(test_padded_x), size=5, replace=False)\n",
        "for i in random_indexes:\n",
        "    print(x_test[i][6:-6])\n",
        "    print(y_test[i])\n",
        "    print(predicted_words[i])"
      ]
    }
  ],
  "metadata": {
    "colab": {
      "provenance": []
    },
    "kernelspec": {
      "display_name": "Python 3",
      "name": "python3"
    },
    "language_info": {
      "codemirror_mode": {
        "name": "ipython",
        "version": 3
      },
      "file_extension": ".py",
      "mimetype": "text/x-python",
      "name": "python",
      "nbconvert_exporter": "python",
      "pygments_lexer": "ipython3",
      "version": "3.10.14"
    },
    "widgets": {
      "application/vnd.jupyter.widget-state+json": {
        "8c2593768e7141b3ab19290cf9b468ab": {
          "model_module": "@jupyter-widgets/controls",
          "model_name": "HBoxModel",
          "model_module_version": "1.5.0",
          "state": {
            "_dom_classes": [],
            "_model_module": "@jupyter-widgets/controls",
            "_model_module_version": "1.5.0",
            "_model_name": "HBoxModel",
            "_view_count": null,
            "_view_module": "@jupyter-widgets/controls",
            "_view_module_version": "1.5.0",
            "_view_name": "HBoxView",
            "box_style": "",
            "children": [
              "IPY_MODEL_7d2ec2fd56de4f2db496082bd01e403b",
              "IPY_MODEL_6f71b592b48346808c13c1d0c826476e",
              "IPY_MODEL_f5ad0519974f4833a04d5c212711f1f8"
            ],
            "layout": "IPY_MODEL_241abee208654b48baefa7d316a472f8"
          }
        },
        "7d2ec2fd56de4f2db496082bd01e403b": {
          "model_module": "@jupyter-widgets/controls",
          "model_name": "HTMLModel",
          "model_module_version": "1.5.0",
          "state": {
            "_dom_classes": [],
            "_model_module": "@jupyter-widgets/controls",
            "_model_module_version": "1.5.0",
            "_model_name": "HTMLModel",
            "_view_count": null,
            "_view_module": "@jupyter-widgets/controls",
            "_view_module_version": "1.5.0",
            "_view_name": "HTMLView",
            "description": "",
            "description_tooltip": null,
            "layout": "IPY_MODEL_1b7831203fdb4d65b83b623b7040c507",
            "placeholder": "​",
            "style": "IPY_MODEL_47219b798f2d47a2916ddc4b4caad96f",
            "value": "Downloading readme: 100%"
          }
        },
        "6f71b592b48346808c13c1d0c826476e": {
          "model_module": "@jupyter-widgets/controls",
          "model_name": "FloatProgressModel",
          "model_module_version": "1.5.0",
          "state": {
            "_dom_classes": [],
            "_model_module": "@jupyter-widgets/controls",
            "_model_module_version": "1.5.0",
            "_model_name": "FloatProgressModel",
            "_view_count": null,
            "_view_module": "@jupyter-widgets/controls",
            "_view_module_version": "1.5.0",
            "_view_name": "ProgressView",
            "bar_style": "success",
            "description": "",
            "description_tooltip": null,
            "layout": "IPY_MODEL_f4d4892fd9ab48fb81dc21ab744119e9",
            "max": 7620,
            "min": 0,
            "orientation": "horizontal",
            "style": "IPY_MODEL_490d1c97b25f4e1895f04d5d11b287bf",
            "value": 7620
          }
        },
        "f5ad0519974f4833a04d5c212711f1f8": {
          "model_module": "@jupyter-widgets/controls",
          "model_name": "HTMLModel",
          "model_module_version": "1.5.0",
          "state": {
            "_dom_classes": [],
            "_model_module": "@jupyter-widgets/controls",
            "_model_module_version": "1.5.0",
            "_model_name": "HTMLModel",
            "_view_count": null,
            "_view_module": "@jupyter-widgets/controls",
            "_view_module_version": "1.5.0",
            "_view_name": "HTMLView",
            "description": "",
            "description_tooltip": null,
            "layout": "IPY_MODEL_befb54965a0d409da43fe053c4e2d261",
            "placeholder": "​",
            "style": "IPY_MODEL_603b6d827b964939b05b84366c22ea57",
            "value": " 7.62k/7.62k [00:00&lt;00:00, 509kB/s]"
          }
        },
        "241abee208654b48baefa7d316a472f8": {
          "model_module": "@jupyter-widgets/base",
          "model_name": "LayoutModel",
          "model_module_version": "1.2.0",
          "state": {
            "_model_module": "@jupyter-widgets/base",
            "_model_module_version": "1.2.0",
            "_model_name": "LayoutModel",
            "_view_count": null,
            "_view_module": "@jupyter-widgets/base",
            "_view_module_version": "1.2.0",
            "_view_name": "LayoutView",
            "align_content": null,
            "align_items": null,
            "align_self": null,
            "border": null,
            "bottom": null,
            "display": null,
            "flex": null,
            "flex_flow": null,
            "grid_area": null,
            "grid_auto_columns": null,
            "grid_auto_flow": null,
            "grid_auto_rows": null,
            "grid_column": null,
            "grid_gap": null,
            "grid_row": null,
            "grid_template_areas": null,
            "grid_template_columns": null,
            "grid_template_rows": null,
            "height": null,
            "justify_content": null,
            "justify_items": null,
            "left": null,
            "margin": null,
            "max_height": null,
            "max_width": null,
            "min_height": null,
            "min_width": null,
            "object_fit": null,
            "object_position": null,
            "order": null,
            "overflow": null,
            "overflow_x": null,
            "overflow_y": null,
            "padding": null,
            "right": null,
            "top": null,
            "visibility": null,
            "width": null
          }
        },
        "1b7831203fdb4d65b83b623b7040c507": {
          "model_module": "@jupyter-widgets/base",
          "model_name": "LayoutModel",
          "model_module_version": "1.2.0",
          "state": {
            "_model_module": "@jupyter-widgets/base",
            "_model_module_version": "1.2.0",
            "_model_name": "LayoutModel",
            "_view_count": null,
            "_view_module": "@jupyter-widgets/base",
            "_view_module_version": "1.2.0",
            "_view_name": "LayoutView",
            "align_content": null,
            "align_items": null,
            "align_self": null,
            "border": null,
            "bottom": null,
            "display": null,
            "flex": null,
            "flex_flow": null,
            "grid_area": null,
            "grid_auto_columns": null,
            "grid_auto_flow": null,
            "grid_auto_rows": null,
            "grid_column": null,
            "grid_gap": null,
            "grid_row": null,
            "grid_template_areas": null,
            "grid_template_columns": null,
            "grid_template_rows": null,
            "height": null,
            "justify_content": null,
            "justify_items": null,
            "left": null,
            "margin": null,
            "max_height": null,
            "max_width": null,
            "min_height": null,
            "min_width": null,
            "object_fit": null,
            "object_position": null,
            "order": null,
            "overflow": null,
            "overflow_x": null,
            "overflow_y": null,
            "padding": null,
            "right": null,
            "top": null,
            "visibility": null,
            "width": null
          }
        },
        "47219b798f2d47a2916ddc4b4caad96f": {
          "model_module": "@jupyter-widgets/controls",
          "model_name": "DescriptionStyleModel",
          "model_module_version": "1.5.0",
          "state": {
            "_model_module": "@jupyter-widgets/controls",
            "_model_module_version": "1.5.0",
            "_model_name": "DescriptionStyleModel",
            "_view_count": null,
            "_view_module": "@jupyter-widgets/base",
            "_view_module_version": "1.2.0",
            "_view_name": "StyleView",
            "description_width": ""
          }
        },
        "f4d4892fd9ab48fb81dc21ab744119e9": {
          "model_module": "@jupyter-widgets/base",
          "model_name": "LayoutModel",
          "model_module_version": "1.2.0",
          "state": {
            "_model_module": "@jupyter-widgets/base",
            "_model_module_version": "1.2.0",
            "_model_name": "LayoutModel",
            "_view_count": null,
            "_view_module": "@jupyter-widgets/base",
            "_view_module_version": "1.2.0",
            "_view_name": "LayoutView",
            "align_content": null,
            "align_items": null,
            "align_self": null,
            "border": null,
            "bottom": null,
            "display": null,
            "flex": null,
            "flex_flow": null,
            "grid_area": null,
            "grid_auto_columns": null,
            "grid_auto_flow": null,
            "grid_auto_rows": null,
            "grid_column": null,
            "grid_gap": null,
            "grid_row": null,
            "grid_template_areas": null,
            "grid_template_columns": null,
            "grid_template_rows": null,
            "height": null,
            "justify_content": null,
            "justify_items": null,
            "left": null,
            "margin": null,
            "max_height": null,
            "max_width": null,
            "min_height": null,
            "min_width": null,
            "object_fit": null,
            "object_position": null,
            "order": null,
            "overflow": null,
            "overflow_x": null,
            "overflow_y": null,
            "padding": null,
            "right": null,
            "top": null,
            "visibility": null,
            "width": null
          }
        },
        "490d1c97b25f4e1895f04d5d11b287bf": {
          "model_module": "@jupyter-widgets/controls",
          "model_name": "ProgressStyleModel",
          "model_module_version": "1.5.0",
          "state": {
            "_model_module": "@jupyter-widgets/controls",
            "_model_module_version": "1.5.0",
            "_model_name": "ProgressStyleModel",
            "_view_count": null,
            "_view_module": "@jupyter-widgets/base",
            "_view_module_version": "1.2.0",
            "_view_name": "StyleView",
            "bar_color": null,
            "description_width": ""
          }
        },
        "befb54965a0d409da43fe053c4e2d261": {
          "model_module": "@jupyter-widgets/base",
          "model_name": "LayoutModel",
          "model_module_version": "1.2.0",
          "state": {
            "_model_module": "@jupyter-widgets/base",
            "_model_module_version": "1.2.0",
            "_model_name": "LayoutModel",
            "_view_count": null,
            "_view_module": "@jupyter-widgets/base",
            "_view_module_version": "1.2.0",
            "_view_name": "LayoutView",
            "align_content": null,
            "align_items": null,
            "align_self": null,
            "border": null,
            "bottom": null,
            "display": null,
            "flex": null,
            "flex_flow": null,
            "grid_area": null,
            "grid_auto_columns": null,
            "grid_auto_flow": null,
            "grid_auto_rows": null,
            "grid_column": null,
            "grid_gap": null,
            "grid_row": null,
            "grid_template_areas": null,
            "grid_template_columns": null,
            "grid_template_rows": null,
            "height": null,
            "justify_content": null,
            "justify_items": null,
            "left": null,
            "margin": null,
            "max_height": null,
            "max_width": null,
            "min_height": null,
            "min_width": null,
            "object_fit": null,
            "object_position": null,
            "order": null,
            "overflow": null,
            "overflow_x": null,
            "overflow_y": null,
            "padding": null,
            "right": null,
            "top": null,
            "visibility": null,
            "width": null
          }
        },
        "603b6d827b964939b05b84366c22ea57": {
          "model_module": "@jupyter-widgets/controls",
          "model_name": "DescriptionStyleModel",
          "model_module_version": "1.5.0",
          "state": {
            "_model_module": "@jupyter-widgets/controls",
            "_model_module_version": "1.5.0",
            "_model_name": "DescriptionStyleModel",
            "_view_count": null,
            "_view_module": "@jupyter-widgets/base",
            "_view_module_version": "1.2.0",
            "_view_name": "StyleView",
            "description_width": ""
          }
        },
        "e2d6fb8adc004956b21388c156ffd868": {
          "model_module": "@jupyter-widgets/controls",
          "model_name": "HBoxModel",
          "model_module_version": "1.5.0",
          "state": {
            "_dom_classes": [],
            "_model_module": "@jupyter-widgets/controls",
            "_model_module_version": "1.5.0",
            "_model_name": "HBoxModel",
            "_view_count": null,
            "_view_module": "@jupyter-widgets/controls",
            "_view_module_version": "1.5.0",
            "_view_name": "HBoxView",
            "box_style": "",
            "children": [
              "IPY_MODEL_b703453f310640dba7e494863f1c995f",
              "IPY_MODEL_e186833f88574b2ba4c23c7cab95dbb3",
              "IPY_MODEL_8c1cef2a0b8342c7bafda8fd4df11ea2"
            ],
            "layout": "IPY_MODEL_d2aad770d35449e3afc94d2b461f5df2"
          }
        },
        "b703453f310640dba7e494863f1c995f": {
          "model_module": "@jupyter-widgets/controls",
          "model_name": "HTMLModel",
          "model_module_version": "1.5.0",
          "state": {
            "_dom_classes": [],
            "_model_module": "@jupyter-widgets/controls",
            "_model_module_version": "1.5.0",
            "_model_name": "HTMLModel",
            "_view_count": null,
            "_view_module": "@jupyter-widgets/controls",
            "_view_module_version": "1.5.0",
            "_view_name": "HTMLView",
            "description": "",
            "description_tooltip": null,
            "layout": "IPY_MODEL_2dd74a850a144ab388d03e56ef705014",
            "placeholder": "​",
            "style": "IPY_MODEL_47b1b7c285e84ff6a097a1b55c71f9b6",
            "value": "Downloading data: 100%"
          }
        },
        "e186833f88574b2ba4c23c7cab95dbb3": {
          "model_module": "@jupyter-widgets/controls",
          "model_name": "FloatProgressModel",
          "model_module_version": "1.5.0",
          "state": {
            "_dom_classes": [],
            "_model_module": "@jupyter-widgets/controls",
            "_model_module_version": "1.5.0",
            "_model_name": "FloatProgressModel",
            "_view_count": null,
            "_view_module": "@jupyter-widgets/controls",
            "_view_module_version": "1.5.0",
            "_view_name": "ProgressView",
            "bar_style": "success",
            "description": "",
            "description_tooltip": null,
            "layout": "IPY_MODEL_3b27c847ac2c4d9c85febfec7e547b7a",
            "max": 14458314,
            "min": 0,
            "orientation": "horizontal",
            "style": "IPY_MODEL_d2015362a27c49269421a3416523c6e0",
            "value": 14458314
          }
        },
        "8c1cef2a0b8342c7bafda8fd4df11ea2": {
          "model_module": "@jupyter-widgets/controls",
          "model_name": "HTMLModel",
          "model_module_version": "1.5.0",
          "state": {
            "_dom_classes": [],
            "_model_module": "@jupyter-widgets/controls",
            "_model_module_version": "1.5.0",
            "_model_name": "HTMLModel",
            "_view_count": null,
            "_view_module": "@jupyter-widgets/controls",
            "_view_module_version": "1.5.0",
            "_view_name": "HTMLView",
            "description": "",
            "description_tooltip": null,
            "layout": "IPY_MODEL_dcbaddee25cc41bf9ac2a6c168f6007e",
            "placeholder": "​",
            "style": "IPY_MODEL_ea13705fb7204a5498c0bc3c830a608f",
            "value": " 14.5M/14.5M [00:00&lt;00:00, 22.1MB/s]"
          }
        },
        "d2aad770d35449e3afc94d2b461f5df2": {
          "model_module": "@jupyter-widgets/base",
          "model_name": "LayoutModel",
          "model_module_version": "1.2.0",
          "state": {
            "_model_module": "@jupyter-widgets/base",
            "_model_module_version": "1.2.0",
            "_model_name": "LayoutModel",
            "_view_count": null,
            "_view_module": "@jupyter-widgets/base",
            "_view_module_version": "1.2.0",
            "_view_name": "LayoutView",
            "align_content": null,
            "align_items": null,
            "align_self": null,
            "border": null,
            "bottom": null,
            "display": null,
            "flex": null,
            "flex_flow": null,
            "grid_area": null,
            "grid_auto_columns": null,
            "grid_auto_flow": null,
            "grid_auto_rows": null,
            "grid_column": null,
            "grid_gap": null,
            "grid_row": null,
            "grid_template_areas": null,
            "grid_template_columns": null,
            "grid_template_rows": null,
            "height": null,
            "justify_content": null,
            "justify_items": null,
            "left": null,
            "margin": null,
            "max_height": null,
            "max_width": null,
            "min_height": null,
            "min_width": null,
            "object_fit": null,
            "object_position": null,
            "order": null,
            "overflow": null,
            "overflow_x": null,
            "overflow_y": null,
            "padding": null,
            "right": null,
            "top": null,
            "visibility": null,
            "width": null
          }
        },
        "2dd74a850a144ab388d03e56ef705014": {
          "model_module": "@jupyter-widgets/base",
          "model_name": "LayoutModel",
          "model_module_version": "1.2.0",
          "state": {
            "_model_module": "@jupyter-widgets/base",
            "_model_module_version": "1.2.0",
            "_model_name": "LayoutModel",
            "_view_count": null,
            "_view_module": "@jupyter-widgets/base",
            "_view_module_version": "1.2.0",
            "_view_name": "LayoutView",
            "align_content": null,
            "align_items": null,
            "align_self": null,
            "border": null,
            "bottom": null,
            "display": null,
            "flex": null,
            "flex_flow": null,
            "grid_area": null,
            "grid_auto_columns": null,
            "grid_auto_flow": null,
            "grid_auto_rows": null,
            "grid_column": null,
            "grid_gap": null,
            "grid_row": null,
            "grid_template_areas": null,
            "grid_template_columns": null,
            "grid_template_rows": null,
            "height": null,
            "justify_content": null,
            "justify_items": null,
            "left": null,
            "margin": null,
            "max_height": null,
            "max_width": null,
            "min_height": null,
            "min_width": null,
            "object_fit": null,
            "object_position": null,
            "order": null,
            "overflow": null,
            "overflow_x": null,
            "overflow_y": null,
            "padding": null,
            "right": null,
            "top": null,
            "visibility": null,
            "width": null
          }
        },
        "47b1b7c285e84ff6a097a1b55c71f9b6": {
          "model_module": "@jupyter-widgets/controls",
          "model_name": "DescriptionStyleModel",
          "model_module_version": "1.5.0",
          "state": {
            "_model_module": "@jupyter-widgets/controls",
            "_model_module_version": "1.5.0",
            "_model_name": "DescriptionStyleModel",
            "_view_count": null,
            "_view_module": "@jupyter-widgets/base",
            "_view_module_version": "1.2.0",
            "_view_name": "StyleView",
            "description_width": ""
          }
        },
        "3b27c847ac2c4d9c85febfec7e547b7a": {
          "model_module": "@jupyter-widgets/base",
          "model_name": "LayoutModel",
          "model_module_version": "1.2.0",
          "state": {
            "_model_module": "@jupyter-widgets/base",
            "_model_module_version": "1.2.0",
            "_model_name": "LayoutModel",
            "_view_count": null,
            "_view_module": "@jupyter-widgets/base",
            "_view_module_version": "1.2.0",
            "_view_name": "LayoutView",
            "align_content": null,
            "align_items": null,
            "align_self": null,
            "border": null,
            "bottom": null,
            "display": null,
            "flex": null,
            "flex_flow": null,
            "grid_area": null,
            "grid_auto_columns": null,
            "grid_auto_flow": null,
            "grid_auto_rows": null,
            "grid_column": null,
            "grid_gap": null,
            "grid_row": null,
            "grid_template_areas": null,
            "grid_template_columns": null,
            "grid_template_rows": null,
            "height": null,
            "justify_content": null,
            "justify_items": null,
            "left": null,
            "margin": null,
            "max_height": null,
            "max_width": null,
            "min_height": null,
            "min_width": null,
            "object_fit": null,
            "object_position": null,
            "order": null,
            "overflow": null,
            "overflow_x": null,
            "overflow_y": null,
            "padding": null,
            "right": null,
            "top": null,
            "visibility": null,
            "width": null
          }
        },
        "d2015362a27c49269421a3416523c6e0": {
          "model_module": "@jupyter-widgets/controls",
          "model_name": "ProgressStyleModel",
          "model_module_version": "1.5.0",
          "state": {
            "_model_module": "@jupyter-widgets/controls",
            "_model_module_version": "1.5.0",
            "_model_name": "ProgressStyleModel",
            "_view_count": null,
            "_view_module": "@jupyter-widgets/base",
            "_view_module_version": "1.2.0",
            "_view_name": "StyleView",
            "bar_color": null,
            "description_width": ""
          }
        },
        "dcbaddee25cc41bf9ac2a6c168f6007e": {
          "model_module": "@jupyter-widgets/base",
          "model_name": "LayoutModel",
          "model_module_version": "1.2.0",
          "state": {
            "_model_module": "@jupyter-widgets/base",
            "_model_module_version": "1.2.0",
            "_model_name": "LayoutModel",
            "_view_count": null,
            "_view_module": "@jupyter-widgets/base",
            "_view_module_version": "1.2.0",
            "_view_name": "LayoutView",
            "align_content": null,
            "align_items": null,
            "align_self": null,
            "border": null,
            "bottom": null,
            "display": null,
            "flex": null,
            "flex_flow": null,
            "grid_area": null,
            "grid_auto_columns": null,
            "grid_auto_flow": null,
            "grid_auto_rows": null,
            "grid_column": null,
            "grid_gap": null,
            "grid_row": null,
            "grid_template_areas": null,
            "grid_template_columns": null,
            "grid_template_rows": null,
            "height": null,
            "justify_content": null,
            "justify_items": null,
            "left": null,
            "margin": null,
            "max_height": null,
            "max_width": null,
            "min_height": null,
            "min_width": null,
            "object_fit": null,
            "object_position": null,
            "order": null,
            "overflow": null,
            "overflow_x": null,
            "overflow_y": null,
            "padding": null,
            "right": null,
            "top": null,
            "visibility": null,
            "width": null
          }
        },
        "ea13705fb7204a5498c0bc3c830a608f": {
          "model_module": "@jupyter-widgets/controls",
          "model_name": "DescriptionStyleModel",
          "model_module_version": "1.5.0",
          "state": {
            "_model_module": "@jupyter-widgets/controls",
            "_model_module_version": "1.5.0",
            "_model_name": "DescriptionStyleModel",
            "_view_count": null,
            "_view_module": "@jupyter-widgets/base",
            "_view_module_version": "1.2.0",
            "_view_name": "StyleView",
            "description_width": ""
          }
        },
        "a2e0f2886e214d219453918e95e4a20c": {
          "model_module": "@jupyter-widgets/controls",
          "model_name": "HBoxModel",
          "model_module_version": "1.5.0",
          "state": {
            "_dom_classes": [],
            "_model_module": "@jupyter-widgets/controls",
            "_model_module_version": "1.5.0",
            "_model_name": "HBoxModel",
            "_view_count": null,
            "_view_module": "@jupyter-widgets/controls",
            "_view_module_version": "1.5.0",
            "_view_name": "HBoxView",
            "box_style": "",
            "children": [
              "IPY_MODEL_5f10d53b284541569ef50311bbfbfd56",
              "IPY_MODEL_2aaa65caa5294173b371d717319b6d29",
              "IPY_MODEL_3ed685117a9944c382b0ac250c71a3cb"
            ],
            "layout": "IPY_MODEL_47d41b772dcb48b9bd00ca0ce8eef7fa"
          }
        },
        "5f10d53b284541569ef50311bbfbfd56": {
          "model_module": "@jupyter-widgets/controls",
          "model_name": "HTMLModel",
          "model_module_version": "1.5.0",
          "state": {
            "_dom_classes": [],
            "_model_module": "@jupyter-widgets/controls",
            "_model_module_version": "1.5.0",
            "_model_name": "HTMLModel",
            "_view_count": null,
            "_view_module": "@jupyter-widgets/controls",
            "_view_module_version": "1.5.0",
            "_view_name": "HTMLView",
            "description": "",
            "description_tooltip": null,
            "layout": "IPY_MODEL_c628b53701e54cab85a20bd03e402389",
            "placeholder": "​",
            "style": "IPY_MODEL_ddd1e266a06b400a88ab9611cf7820bc",
            "value": "Downloading data: 100%"
          }
        },
        "2aaa65caa5294173b371d717319b6d29": {
          "model_module": "@jupyter-widgets/controls",
          "model_name": "FloatProgressModel",
          "model_module_version": "1.5.0",
          "state": {
            "_dom_classes": [],
            "_model_module": "@jupyter-widgets/controls",
            "_model_module_version": "1.5.0",
            "_model_name": "FloatProgressModel",
            "_view_count": null,
            "_view_module": "@jupyter-widgets/controls",
            "_view_module_version": "1.5.0",
            "_view_name": "ProgressView",
            "bar_style": "success",
            "description": "",
            "description_tooltip": null,
            "layout": "IPY_MODEL_1a72d5db9c2946e3ac8bbbd874d53020",
            "max": 1819889,
            "min": 0,
            "orientation": "horizontal",
            "style": "IPY_MODEL_e940daceb08644b59a19c562bdc6283f",
            "value": 1819889
          }
        },
        "3ed685117a9944c382b0ac250c71a3cb": {
          "model_module": "@jupyter-widgets/controls",
          "model_name": "HTMLModel",
          "model_module_version": "1.5.0",
          "state": {
            "_dom_classes": [],
            "_model_module": "@jupyter-widgets/controls",
            "_model_module_version": "1.5.0",
            "_model_name": "HTMLModel",
            "_view_count": null,
            "_view_module": "@jupyter-widgets/controls",
            "_view_module_version": "1.5.0",
            "_view_name": "HTMLView",
            "description": "",
            "description_tooltip": null,
            "layout": "IPY_MODEL_62347cdc88674aecaf4d0b58cfe60d30",
            "placeholder": "​",
            "style": "IPY_MODEL_62ddc6cde7a74602a22b6337f5e9f505",
            "value": " 1.82M/1.82M [00:00&lt;00:00, 8.63MB/s]"
          }
        },
        "47d41b772dcb48b9bd00ca0ce8eef7fa": {
          "model_module": "@jupyter-widgets/base",
          "model_name": "LayoutModel",
          "model_module_version": "1.2.0",
          "state": {
            "_model_module": "@jupyter-widgets/base",
            "_model_module_version": "1.2.0",
            "_model_name": "LayoutModel",
            "_view_count": null,
            "_view_module": "@jupyter-widgets/base",
            "_view_module_version": "1.2.0",
            "_view_name": "LayoutView",
            "align_content": null,
            "align_items": null,
            "align_self": null,
            "border": null,
            "bottom": null,
            "display": null,
            "flex": null,
            "flex_flow": null,
            "grid_area": null,
            "grid_auto_columns": null,
            "grid_auto_flow": null,
            "grid_auto_rows": null,
            "grid_column": null,
            "grid_gap": null,
            "grid_row": null,
            "grid_template_areas": null,
            "grid_template_columns": null,
            "grid_template_rows": null,
            "height": null,
            "justify_content": null,
            "justify_items": null,
            "left": null,
            "margin": null,
            "max_height": null,
            "max_width": null,
            "min_height": null,
            "min_width": null,
            "object_fit": null,
            "object_position": null,
            "order": null,
            "overflow": null,
            "overflow_x": null,
            "overflow_y": null,
            "padding": null,
            "right": null,
            "top": null,
            "visibility": null,
            "width": null
          }
        },
        "c628b53701e54cab85a20bd03e402389": {
          "model_module": "@jupyter-widgets/base",
          "model_name": "LayoutModel",
          "model_module_version": "1.2.0",
          "state": {
            "_model_module": "@jupyter-widgets/base",
            "_model_module_version": "1.2.0",
            "_model_name": "LayoutModel",
            "_view_count": null,
            "_view_module": "@jupyter-widgets/base",
            "_view_module_version": "1.2.0",
            "_view_name": "LayoutView",
            "align_content": null,
            "align_items": null,
            "align_self": null,
            "border": null,
            "bottom": null,
            "display": null,
            "flex": null,
            "flex_flow": null,
            "grid_area": null,
            "grid_auto_columns": null,
            "grid_auto_flow": null,
            "grid_auto_rows": null,
            "grid_column": null,
            "grid_gap": null,
            "grid_row": null,
            "grid_template_areas": null,
            "grid_template_columns": null,
            "grid_template_rows": null,
            "height": null,
            "justify_content": null,
            "justify_items": null,
            "left": null,
            "margin": null,
            "max_height": null,
            "max_width": null,
            "min_height": null,
            "min_width": null,
            "object_fit": null,
            "object_position": null,
            "order": null,
            "overflow": null,
            "overflow_x": null,
            "overflow_y": null,
            "padding": null,
            "right": null,
            "top": null,
            "visibility": null,
            "width": null
          }
        },
        "ddd1e266a06b400a88ab9611cf7820bc": {
          "model_module": "@jupyter-widgets/controls",
          "model_name": "DescriptionStyleModel",
          "model_module_version": "1.5.0",
          "state": {
            "_model_module": "@jupyter-widgets/controls",
            "_model_module_version": "1.5.0",
            "_model_name": "DescriptionStyleModel",
            "_view_count": null,
            "_view_module": "@jupyter-widgets/base",
            "_view_module_version": "1.2.0",
            "_view_name": "StyleView",
            "description_width": ""
          }
        },
        "1a72d5db9c2946e3ac8bbbd874d53020": {
          "model_module": "@jupyter-widgets/base",
          "model_name": "LayoutModel",
          "model_module_version": "1.2.0",
          "state": {
            "_model_module": "@jupyter-widgets/base",
            "_model_module_version": "1.2.0",
            "_model_name": "LayoutModel",
            "_view_count": null,
            "_view_module": "@jupyter-widgets/base",
            "_view_module_version": "1.2.0",
            "_view_name": "LayoutView",
            "align_content": null,
            "align_items": null,
            "align_self": null,
            "border": null,
            "bottom": null,
            "display": null,
            "flex": null,
            "flex_flow": null,
            "grid_area": null,
            "grid_auto_columns": null,
            "grid_auto_flow": null,
            "grid_auto_rows": null,
            "grid_column": null,
            "grid_gap": null,
            "grid_row": null,
            "grid_template_areas": null,
            "grid_template_columns": null,
            "grid_template_rows": null,
            "height": null,
            "justify_content": null,
            "justify_items": null,
            "left": null,
            "margin": null,
            "max_height": null,
            "max_width": null,
            "min_height": null,
            "min_width": null,
            "object_fit": null,
            "object_position": null,
            "order": null,
            "overflow": null,
            "overflow_x": null,
            "overflow_y": null,
            "padding": null,
            "right": null,
            "top": null,
            "visibility": null,
            "width": null
          }
        },
        "e940daceb08644b59a19c562bdc6283f": {
          "model_module": "@jupyter-widgets/controls",
          "model_name": "ProgressStyleModel",
          "model_module_version": "1.5.0",
          "state": {
            "_model_module": "@jupyter-widgets/controls",
            "_model_module_version": "1.5.0",
            "_model_name": "ProgressStyleModel",
            "_view_count": null,
            "_view_module": "@jupyter-widgets/base",
            "_view_module_version": "1.2.0",
            "_view_name": "StyleView",
            "bar_color": null,
            "description_width": ""
          }
        },
        "62347cdc88674aecaf4d0b58cfe60d30": {
          "model_module": "@jupyter-widgets/base",
          "model_name": "LayoutModel",
          "model_module_version": "1.2.0",
          "state": {
            "_model_module": "@jupyter-widgets/base",
            "_model_module_version": "1.2.0",
            "_model_name": "LayoutModel",
            "_view_count": null,
            "_view_module": "@jupyter-widgets/base",
            "_view_module_version": "1.2.0",
            "_view_name": "LayoutView",
            "align_content": null,
            "align_items": null,
            "align_self": null,
            "border": null,
            "bottom": null,
            "display": null,
            "flex": null,
            "flex_flow": null,
            "grid_area": null,
            "grid_auto_columns": null,
            "grid_auto_flow": null,
            "grid_auto_rows": null,
            "grid_column": null,
            "grid_gap": null,
            "grid_row": null,
            "grid_template_areas": null,
            "grid_template_columns": null,
            "grid_template_rows": null,
            "height": null,
            "justify_content": null,
            "justify_items": null,
            "left": null,
            "margin": null,
            "max_height": null,
            "max_width": null,
            "min_height": null,
            "min_width": null,
            "object_fit": null,
            "object_position": null,
            "order": null,
            "overflow": null,
            "overflow_x": null,
            "overflow_y": null,
            "padding": null,
            "right": null,
            "top": null,
            "visibility": null,
            "width": null
          }
        },
        "62ddc6cde7a74602a22b6337f5e9f505": {
          "model_module": "@jupyter-widgets/controls",
          "model_name": "DescriptionStyleModel",
          "model_module_version": "1.5.0",
          "state": {
            "_model_module": "@jupyter-widgets/controls",
            "_model_module_version": "1.5.0",
            "_model_name": "DescriptionStyleModel",
            "_view_count": null,
            "_view_module": "@jupyter-widgets/base",
            "_view_module_version": "1.2.0",
            "_view_name": "StyleView",
            "description_width": ""
          }
        },
        "94e3b7eabb3341809bc7fa60bdb150ae": {
          "model_module": "@jupyter-widgets/controls",
          "model_name": "HBoxModel",
          "model_module_version": "1.5.0",
          "state": {
            "_dom_classes": [],
            "_model_module": "@jupyter-widgets/controls",
            "_model_module_version": "1.5.0",
            "_model_name": "HBoxModel",
            "_view_count": null,
            "_view_module": "@jupyter-widgets/controls",
            "_view_module_version": "1.5.0",
            "_view_name": "HBoxView",
            "box_style": "",
            "children": [
              "IPY_MODEL_64b7f9ecf29f4b748a296a3619f29ec8",
              "IPY_MODEL_633502c80cd24b6e851c08ded5af97ad",
              "IPY_MODEL_5b6f252d569c47d4b5c073ce7bcce1fa"
            ],
            "layout": "IPY_MODEL_a949a39f5d58480390fe2b5e52d3815c"
          }
        },
        "64b7f9ecf29f4b748a296a3619f29ec8": {
          "model_module": "@jupyter-widgets/controls",
          "model_name": "HTMLModel",
          "model_module_version": "1.5.0",
          "state": {
            "_dom_classes": [],
            "_model_module": "@jupyter-widgets/controls",
            "_model_module_version": "1.5.0",
            "_model_name": "HTMLModel",
            "_view_count": null,
            "_view_module": "@jupyter-widgets/controls",
            "_view_module_version": "1.5.0",
            "_view_name": "HTMLView",
            "description": "",
            "description_tooltip": null,
            "layout": "IPY_MODEL_21268b8e86c243849a2d751616e87824",
            "placeholder": "​",
            "style": "IPY_MODEL_0635d9a0ef0541db92c4096dd27f872b",
            "value": "Generating train split: 100%"
          }
        },
        "633502c80cd24b6e851c08ded5af97ad": {
          "model_module": "@jupyter-widgets/controls",
          "model_name": "FloatProgressModel",
          "model_module_version": "1.5.0",
          "state": {
            "_dom_classes": [],
            "_model_module": "@jupyter-widgets/controls",
            "_model_module_version": "1.5.0",
            "_model_name": "FloatProgressModel",
            "_view_count": null,
            "_view_module": "@jupyter-widgets/controls",
            "_view_module_version": "1.5.0",
            "_view_name": "ProgressView",
            "bar_style": "success",
            "description": "",
            "description_tooltip": null,
            "layout": "IPY_MODEL_146e7911b2ea4401b16ec074e5af1d75",
            "max": 87599,
            "min": 0,
            "orientation": "horizontal",
            "style": "IPY_MODEL_b4b9326de6134ad09b3c69b86069af3c",
            "value": 87599
          }
        },
        "5b6f252d569c47d4b5c073ce7bcce1fa": {
          "model_module": "@jupyter-widgets/controls",
          "model_name": "HTMLModel",
          "model_module_version": "1.5.0",
          "state": {
            "_dom_classes": [],
            "_model_module": "@jupyter-widgets/controls",
            "_model_module_version": "1.5.0",
            "_model_name": "HTMLModel",
            "_view_count": null,
            "_view_module": "@jupyter-widgets/controls",
            "_view_module_version": "1.5.0",
            "_view_name": "HTMLView",
            "description": "",
            "description_tooltip": null,
            "layout": "IPY_MODEL_516804709e4a426da0433a3c6f470266",
            "placeholder": "​",
            "style": "IPY_MODEL_1bf5990e5a764496b5966114a1e5eaa4",
            "value": " 87599/87599 [00:00&lt;00:00, 115987.43 examples/s]"
          }
        },
        "a949a39f5d58480390fe2b5e52d3815c": {
          "model_module": "@jupyter-widgets/base",
          "model_name": "LayoutModel",
          "model_module_version": "1.2.0",
          "state": {
            "_model_module": "@jupyter-widgets/base",
            "_model_module_version": "1.2.0",
            "_model_name": "LayoutModel",
            "_view_count": null,
            "_view_module": "@jupyter-widgets/base",
            "_view_module_version": "1.2.0",
            "_view_name": "LayoutView",
            "align_content": null,
            "align_items": null,
            "align_self": null,
            "border": null,
            "bottom": null,
            "display": null,
            "flex": null,
            "flex_flow": null,
            "grid_area": null,
            "grid_auto_columns": null,
            "grid_auto_flow": null,
            "grid_auto_rows": null,
            "grid_column": null,
            "grid_gap": null,
            "grid_row": null,
            "grid_template_areas": null,
            "grid_template_columns": null,
            "grid_template_rows": null,
            "height": null,
            "justify_content": null,
            "justify_items": null,
            "left": null,
            "margin": null,
            "max_height": null,
            "max_width": null,
            "min_height": null,
            "min_width": null,
            "object_fit": null,
            "object_position": null,
            "order": null,
            "overflow": null,
            "overflow_x": null,
            "overflow_y": null,
            "padding": null,
            "right": null,
            "top": null,
            "visibility": null,
            "width": null
          }
        },
        "21268b8e86c243849a2d751616e87824": {
          "model_module": "@jupyter-widgets/base",
          "model_name": "LayoutModel",
          "model_module_version": "1.2.0",
          "state": {
            "_model_module": "@jupyter-widgets/base",
            "_model_module_version": "1.2.0",
            "_model_name": "LayoutModel",
            "_view_count": null,
            "_view_module": "@jupyter-widgets/base",
            "_view_module_version": "1.2.0",
            "_view_name": "LayoutView",
            "align_content": null,
            "align_items": null,
            "align_self": null,
            "border": null,
            "bottom": null,
            "display": null,
            "flex": null,
            "flex_flow": null,
            "grid_area": null,
            "grid_auto_columns": null,
            "grid_auto_flow": null,
            "grid_auto_rows": null,
            "grid_column": null,
            "grid_gap": null,
            "grid_row": null,
            "grid_template_areas": null,
            "grid_template_columns": null,
            "grid_template_rows": null,
            "height": null,
            "justify_content": null,
            "justify_items": null,
            "left": null,
            "margin": null,
            "max_height": null,
            "max_width": null,
            "min_height": null,
            "min_width": null,
            "object_fit": null,
            "object_position": null,
            "order": null,
            "overflow": null,
            "overflow_x": null,
            "overflow_y": null,
            "padding": null,
            "right": null,
            "top": null,
            "visibility": null,
            "width": null
          }
        },
        "0635d9a0ef0541db92c4096dd27f872b": {
          "model_module": "@jupyter-widgets/controls",
          "model_name": "DescriptionStyleModel",
          "model_module_version": "1.5.0",
          "state": {
            "_model_module": "@jupyter-widgets/controls",
            "_model_module_version": "1.5.0",
            "_model_name": "DescriptionStyleModel",
            "_view_count": null,
            "_view_module": "@jupyter-widgets/base",
            "_view_module_version": "1.2.0",
            "_view_name": "StyleView",
            "description_width": ""
          }
        },
        "146e7911b2ea4401b16ec074e5af1d75": {
          "model_module": "@jupyter-widgets/base",
          "model_name": "LayoutModel",
          "model_module_version": "1.2.0",
          "state": {
            "_model_module": "@jupyter-widgets/base",
            "_model_module_version": "1.2.0",
            "_model_name": "LayoutModel",
            "_view_count": null,
            "_view_module": "@jupyter-widgets/base",
            "_view_module_version": "1.2.0",
            "_view_name": "LayoutView",
            "align_content": null,
            "align_items": null,
            "align_self": null,
            "border": null,
            "bottom": null,
            "display": null,
            "flex": null,
            "flex_flow": null,
            "grid_area": null,
            "grid_auto_columns": null,
            "grid_auto_flow": null,
            "grid_auto_rows": null,
            "grid_column": null,
            "grid_gap": null,
            "grid_row": null,
            "grid_template_areas": null,
            "grid_template_columns": null,
            "grid_template_rows": null,
            "height": null,
            "justify_content": null,
            "justify_items": null,
            "left": null,
            "margin": null,
            "max_height": null,
            "max_width": null,
            "min_height": null,
            "min_width": null,
            "object_fit": null,
            "object_position": null,
            "order": null,
            "overflow": null,
            "overflow_x": null,
            "overflow_y": null,
            "padding": null,
            "right": null,
            "top": null,
            "visibility": null,
            "width": null
          }
        },
        "b4b9326de6134ad09b3c69b86069af3c": {
          "model_module": "@jupyter-widgets/controls",
          "model_name": "ProgressStyleModel",
          "model_module_version": "1.5.0",
          "state": {
            "_model_module": "@jupyter-widgets/controls",
            "_model_module_version": "1.5.0",
            "_model_name": "ProgressStyleModel",
            "_view_count": null,
            "_view_module": "@jupyter-widgets/base",
            "_view_module_version": "1.2.0",
            "_view_name": "StyleView",
            "bar_color": null,
            "description_width": ""
          }
        },
        "516804709e4a426da0433a3c6f470266": {
          "model_module": "@jupyter-widgets/base",
          "model_name": "LayoutModel",
          "model_module_version": "1.2.0",
          "state": {
            "_model_module": "@jupyter-widgets/base",
            "_model_module_version": "1.2.0",
            "_model_name": "LayoutModel",
            "_view_count": null,
            "_view_module": "@jupyter-widgets/base",
            "_view_module_version": "1.2.0",
            "_view_name": "LayoutView",
            "align_content": null,
            "align_items": null,
            "align_self": null,
            "border": null,
            "bottom": null,
            "display": null,
            "flex": null,
            "flex_flow": null,
            "grid_area": null,
            "grid_auto_columns": null,
            "grid_auto_flow": null,
            "grid_auto_rows": null,
            "grid_column": null,
            "grid_gap": null,
            "grid_row": null,
            "grid_template_areas": null,
            "grid_template_columns": null,
            "grid_template_rows": null,
            "height": null,
            "justify_content": null,
            "justify_items": null,
            "left": null,
            "margin": null,
            "max_height": null,
            "max_width": null,
            "min_height": null,
            "min_width": null,
            "object_fit": null,
            "object_position": null,
            "order": null,
            "overflow": null,
            "overflow_x": null,
            "overflow_y": null,
            "padding": null,
            "right": null,
            "top": null,
            "visibility": null,
            "width": null
          }
        },
        "1bf5990e5a764496b5966114a1e5eaa4": {
          "model_module": "@jupyter-widgets/controls",
          "model_name": "DescriptionStyleModel",
          "model_module_version": "1.5.0",
          "state": {
            "_model_module": "@jupyter-widgets/controls",
            "_model_module_version": "1.5.0",
            "_model_name": "DescriptionStyleModel",
            "_view_count": null,
            "_view_module": "@jupyter-widgets/base",
            "_view_module_version": "1.2.0",
            "_view_name": "StyleView",
            "description_width": ""
          }
        },
        "798b0828415d4c7f974043e67ae31a29": {
          "model_module": "@jupyter-widgets/controls",
          "model_name": "HBoxModel",
          "model_module_version": "1.5.0",
          "state": {
            "_dom_classes": [],
            "_model_module": "@jupyter-widgets/controls",
            "_model_module_version": "1.5.0",
            "_model_name": "HBoxModel",
            "_view_count": null,
            "_view_module": "@jupyter-widgets/controls",
            "_view_module_version": "1.5.0",
            "_view_name": "HBoxView",
            "box_style": "",
            "children": [
              "IPY_MODEL_0b1724fe46e743fc918e4ad53ba79e25",
              "IPY_MODEL_63b596c3c589464c84379dbec6d7595f",
              "IPY_MODEL_8babf721cfed430a8076ce47ebe8aca6"
            ],
            "layout": "IPY_MODEL_4828db4a46a743cd9dc9f64cd74ceba9"
          }
        },
        "0b1724fe46e743fc918e4ad53ba79e25": {
          "model_module": "@jupyter-widgets/controls",
          "model_name": "HTMLModel",
          "model_module_version": "1.5.0",
          "state": {
            "_dom_classes": [],
            "_model_module": "@jupyter-widgets/controls",
            "_model_module_version": "1.5.0",
            "_model_name": "HTMLModel",
            "_view_count": null,
            "_view_module": "@jupyter-widgets/controls",
            "_view_module_version": "1.5.0",
            "_view_name": "HTMLView",
            "description": "",
            "description_tooltip": null,
            "layout": "IPY_MODEL_ad3c0e985185430fa96eae4718070a31",
            "placeholder": "​",
            "style": "IPY_MODEL_d4e6051c19854bb0825367277548b235",
            "value": "Generating validation split: 100%"
          }
        },
        "63b596c3c589464c84379dbec6d7595f": {
          "model_module": "@jupyter-widgets/controls",
          "model_name": "FloatProgressModel",
          "model_module_version": "1.5.0",
          "state": {
            "_dom_classes": [],
            "_model_module": "@jupyter-widgets/controls",
            "_model_module_version": "1.5.0",
            "_model_name": "FloatProgressModel",
            "_view_count": null,
            "_view_module": "@jupyter-widgets/controls",
            "_view_module_version": "1.5.0",
            "_view_name": "ProgressView",
            "bar_style": "success",
            "description": "",
            "description_tooltip": null,
            "layout": "IPY_MODEL_a99c910b48a34a15a69c6475314e7cb9",
            "max": 10570,
            "min": 0,
            "orientation": "horizontal",
            "style": "IPY_MODEL_bf54e754c2794c62b1e9dd4bd655a3f8",
            "value": 10570
          }
        },
        "8babf721cfed430a8076ce47ebe8aca6": {
          "model_module": "@jupyter-widgets/controls",
          "model_name": "HTMLModel",
          "model_module_version": "1.5.0",
          "state": {
            "_dom_classes": [],
            "_model_module": "@jupyter-widgets/controls",
            "_model_module_version": "1.5.0",
            "_model_name": "HTMLModel",
            "_view_count": null,
            "_view_module": "@jupyter-widgets/controls",
            "_view_module_version": "1.5.0",
            "_view_name": "HTMLView",
            "description": "",
            "description_tooltip": null,
            "layout": "IPY_MODEL_4c14cf0937d94c2fbc7f8cf033dda30c",
            "placeholder": "​",
            "style": "IPY_MODEL_f0277bf902de40fd857df8eed1408681",
            "value": " 10570/10570 [00:00&lt;00:00, 49435.60 examples/s]"
          }
        },
        "4828db4a46a743cd9dc9f64cd74ceba9": {
          "model_module": "@jupyter-widgets/base",
          "model_name": "LayoutModel",
          "model_module_version": "1.2.0",
          "state": {
            "_model_module": "@jupyter-widgets/base",
            "_model_module_version": "1.2.0",
            "_model_name": "LayoutModel",
            "_view_count": null,
            "_view_module": "@jupyter-widgets/base",
            "_view_module_version": "1.2.0",
            "_view_name": "LayoutView",
            "align_content": null,
            "align_items": null,
            "align_self": null,
            "border": null,
            "bottom": null,
            "display": null,
            "flex": null,
            "flex_flow": null,
            "grid_area": null,
            "grid_auto_columns": null,
            "grid_auto_flow": null,
            "grid_auto_rows": null,
            "grid_column": null,
            "grid_gap": null,
            "grid_row": null,
            "grid_template_areas": null,
            "grid_template_columns": null,
            "grid_template_rows": null,
            "height": null,
            "justify_content": null,
            "justify_items": null,
            "left": null,
            "margin": null,
            "max_height": null,
            "max_width": null,
            "min_height": null,
            "min_width": null,
            "object_fit": null,
            "object_position": null,
            "order": null,
            "overflow": null,
            "overflow_x": null,
            "overflow_y": null,
            "padding": null,
            "right": null,
            "top": null,
            "visibility": null,
            "width": null
          }
        },
        "ad3c0e985185430fa96eae4718070a31": {
          "model_module": "@jupyter-widgets/base",
          "model_name": "LayoutModel",
          "model_module_version": "1.2.0",
          "state": {
            "_model_module": "@jupyter-widgets/base",
            "_model_module_version": "1.2.0",
            "_model_name": "LayoutModel",
            "_view_count": null,
            "_view_module": "@jupyter-widgets/base",
            "_view_module_version": "1.2.0",
            "_view_name": "LayoutView",
            "align_content": null,
            "align_items": null,
            "align_self": null,
            "border": null,
            "bottom": null,
            "display": null,
            "flex": null,
            "flex_flow": null,
            "grid_area": null,
            "grid_auto_columns": null,
            "grid_auto_flow": null,
            "grid_auto_rows": null,
            "grid_column": null,
            "grid_gap": null,
            "grid_row": null,
            "grid_template_areas": null,
            "grid_template_columns": null,
            "grid_template_rows": null,
            "height": null,
            "justify_content": null,
            "justify_items": null,
            "left": null,
            "margin": null,
            "max_height": null,
            "max_width": null,
            "min_height": null,
            "min_width": null,
            "object_fit": null,
            "object_position": null,
            "order": null,
            "overflow": null,
            "overflow_x": null,
            "overflow_y": null,
            "padding": null,
            "right": null,
            "top": null,
            "visibility": null,
            "width": null
          }
        },
        "d4e6051c19854bb0825367277548b235": {
          "model_module": "@jupyter-widgets/controls",
          "model_name": "DescriptionStyleModel",
          "model_module_version": "1.5.0",
          "state": {
            "_model_module": "@jupyter-widgets/controls",
            "_model_module_version": "1.5.0",
            "_model_name": "DescriptionStyleModel",
            "_view_count": null,
            "_view_module": "@jupyter-widgets/base",
            "_view_module_version": "1.2.0",
            "_view_name": "StyleView",
            "description_width": ""
          }
        },
        "a99c910b48a34a15a69c6475314e7cb9": {
          "model_module": "@jupyter-widgets/base",
          "model_name": "LayoutModel",
          "model_module_version": "1.2.0",
          "state": {
            "_model_module": "@jupyter-widgets/base",
            "_model_module_version": "1.2.0",
            "_model_name": "LayoutModel",
            "_view_count": null,
            "_view_module": "@jupyter-widgets/base",
            "_view_module_version": "1.2.0",
            "_view_name": "LayoutView",
            "align_content": null,
            "align_items": null,
            "align_self": null,
            "border": null,
            "bottom": null,
            "display": null,
            "flex": null,
            "flex_flow": null,
            "grid_area": null,
            "grid_auto_columns": null,
            "grid_auto_flow": null,
            "grid_auto_rows": null,
            "grid_column": null,
            "grid_gap": null,
            "grid_row": null,
            "grid_template_areas": null,
            "grid_template_columns": null,
            "grid_template_rows": null,
            "height": null,
            "justify_content": null,
            "justify_items": null,
            "left": null,
            "margin": null,
            "max_height": null,
            "max_width": null,
            "min_height": null,
            "min_width": null,
            "object_fit": null,
            "object_position": null,
            "order": null,
            "overflow": null,
            "overflow_x": null,
            "overflow_y": null,
            "padding": null,
            "right": null,
            "top": null,
            "visibility": null,
            "width": null
          }
        },
        "bf54e754c2794c62b1e9dd4bd655a3f8": {
          "model_module": "@jupyter-widgets/controls",
          "model_name": "ProgressStyleModel",
          "model_module_version": "1.5.0",
          "state": {
            "_model_module": "@jupyter-widgets/controls",
            "_model_module_version": "1.5.0",
            "_model_name": "ProgressStyleModel",
            "_view_count": null,
            "_view_module": "@jupyter-widgets/base",
            "_view_module_version": "1.2.0",
            "_view_name": "StyleView",
            "bar_color": null,
            "description_width": ""
          }
        },
        "4c14cf0937d94c2fbc7f8cf033dda30c": {
          "model_module": "@jupyter-widgets/base",
          "model_name": "LayoutModel",
          "model_module_version": "1.2.0",
          "state": {
            "_model_module": "@jupyter-widgets/base",
            "_model_module_version": "1.2.0",
            "_model_name": "LayoutModel",
            "_view_count": null,
            "_view_module": "@jupyter-widgets/base",
            "_view_module_version": "1.2.0",
            "_view_name": "LayoutView",
            "align_content": null,
            "align_items": null,
            "align_self": null,
            "border": null,
            "bottom": null,
            "display": null,
            "flex": null,
            "flex_flow": null,
            "grid_area": null,
            "grid_auto_columns": null,
            "grid_auto_flow": null,
            "grid_auto_rows": null,
            "grid_column": null,
            "grid_gap": null,
            "grid_row": null,
            "grid_template_areas": null,
            "grid_template_columns": null,
            "grid_template_rows": null,
            "height": null,
            "justify_content": null,
            "justify_items": null,
            "left": null,
            "margin": null,
            "max_height": null,
            "max_width": null,
            "min_height": null,
            "min_width": null,
            "object_fit": null,
            "object_position": null,
            "order": null,
            "overflow": null,
            "overflow_x": null,
            "overflow_y": null,
            "padding": null,
            "right": null,
            "top": null,
            "visibility": null,
            "width": null
          }
        },
        "f0277bf902de40fd857df8eed1408681": {
          "model_module": "@jupyter-widgets/controls",
          "model_name": "DescriptionStyleModel",
          "model_module_version": "1.5.0",
          "state": {
            "_model_module": "@jupyter-widgets/controls",
            "_model_module_version": "1.5.0",
            "_model_name": "DescriptionStyleModel",
            "_view_count": null,
            "_view_module": "@jupyter-widgets/base",
            "_view_module_version": "1.2.0",
            "_view_name": "StyleView",
            "description_width": ""
          }
        }
      }
    }
  },
  "nbformat": 4,
  "nbformat_minor": 0
}